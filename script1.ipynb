{
 "cells": [
  {
   "cell_type": "markdown",
   "metadata": {},
   "source": [
    "# Analisis desinformacion"
   ]
  },
  {
   "cell_type": "markdown",
   "metadata": {},
   "source": [
    "Importamos datos y librerias"
   ]
  },
  {
   "cell_type": "code",
   "execution_count": 25,
   "metadata": {},
   "outputs": [],
   "source": [
    "import pandas as pd\n",
    "import numpy as np\n",
    "from sklearn.linear_model import Ridge\n",
    "from sklearn.model_selection import train_test_split\n",
    "from sklearn.preprocessing import MinMaxScaler\n",
    "import mglearn\n",
    "from sklearn.svm import SVC\n",
    "from sklearn.ensemble import RandomForestClassifier\n",
    "from sklearn.linear_model import LogisticRegression\n",
    "import xgboost as xgb\n",
    "from sklearn.model_selection import GridSearchCV\n",
    "from sklearn.pipeline import Pipeline\n",
    "from sklearn.metrics import confusion_matrix\n",
    "import matplotlib.pyplot as plt\n",
    "from sklearn.metrics import classification_report\n",
    "import seaborn as sns"
   ]
  },
  {
   "cell_type": "code",
   "execution_count": 2,
   "metadata": {},
   "outputs": [
    {
     "data": {
      "text/html": [
       "<div>\n",
       "<style scoped>\n",
       "    .dataframe tbody tr th:only-of-type {\n",
       "        vertical-align: middle;\n",
       "    }\n",
       "\n",
       "    .dataframe tbody tr th {\n",
       "        vertical-align: top;\n",
       "    }\n",
       "\n",
       "    .dataframe thead th {\n",
       "        text-align: right;\n",
       "    }\n",
       "</style>\n",
       "<table border=\"1\" class=\"dataframe\">\n",
       "  <thead>\n",
       "    <tr style=\"text-align: right;\">\n",
       "      <th></th>\n",
       "      <th>Unnamed: 0</th>\n",
       "      <th>Q1</th>\n",
       "      <th>Q2</th>\n",
       "      <th>Q3</th>\n",
       "      <th>Q4</th>\n",
       "      <th>Q5</th>\n",
       "      <th>Q6</th>\n",
       "      <th>Q7</th>\n",
       "      <th>Q8</th>\n",
       "      <th>Q9</th>\n",
       "      <th>...</th>\n",
       "      <th>estrato_gr</th>\n",
       "      <th>ERV_desconfianza</th>\n",
       "      <th>ERV_riesgo</th>\n",
       "      <th>conspiracion</th>\n",
       "      <th>escepticis</th>\n",
       "      <th>busc_importancia</th>\n",
       "      <th>busc_comportamiento</th>\n",
       "      <th>confi_redes</th>\n",
       "      <th>confi_experto</th>\n",
       "      <th>confi_allegado</th>\n",
       "    </tr>\n",
       "  </thead>\n",
       "  <tbody>\n",
       "    <tr>\n",
       "      <th>0</th>\n",
       "      <td>1</td>\n",
       "      <td>1</td>\n",
       "      <td>Ls</td>\n",
       "      <td>20</td>\n",
       "      <td>2</td>\n",
       "      <td>1</td>\n",
       "      <td>1</td>\n",
       "      <td>1</td>\n",
       "      <td>2</td>\n",
       "      <td>4.0</td>\n",
       "      <td>...</td>\n",
       "      <td>2</td>\n",
       "      <td>24.719586</td>\n",
       "      <td>15.248551</td>\n",
       "      <td>67.829252</td>\n",
       "      <td>75.000000</td>\n",
       "      <td>48.668738</td>\n",
       "      <td>20.837907</td>\n",
       "      <td>51.188464</td>\n",
       "      <td>66.633209</td>\n",
       "      <td>75.000000</td>\n",
       "    </tr>\n",
       "    <tr>\n",
       "      <th>1</th>\n",
       "      <td>2</td>\n",
       "      <td>2</td>\n",
       "      <td>Angie</td>\n",
       "      <td>21</td>\n",
       "      <td>2</td>\n",
       "      <td>1</td>\n",
       "      <td>1</td>\n",
       "      <td>6</td>\n",
       "      <td>4</td>\n",
       "      <td>4.0</td>\n",
       "      <td>...</td>\n",
       "      <td>2</td>\n",
       "      <td>10.465200</td>\n",
       "      <td>17.207990</td>\n",
       "      <td>56.839841</td>\n",
       "      <td>87.100122</td>\n",
       "      <td>92.381992</td>\n",
       "      <td>90.230516</td>\n",
       "      <td>94.010142</td>\n",
       "      <td>85.962145</td>\n",
       "      <td>75.000000</td>\n",
       "    </tr>\n",
       "    <tr>\n",
       "      <th>2</th>\n",
       "      <td>3</td>\n",
       "      <td>3</td>\n",
       "      <td>AJ</td>\n",
       "      <td>21</td>\n",
       "      <td>1</td>\n",
       "      <td>1</td>\n",
       "      <td>1</td>\n",
       "      <td>2</td>\n",
       "      <td>3</td>\n",
       "      <td>4.0</td>\n",
       "      <td>...</td>\n",
       "      <td>2</td>\n",
       "      <td>0.000000</td>\n",
       "      <td>59.919183</td>\n",
       "      <td>72.137657</td>\n",
       "      <td>100.000000</td>\n",
       "      <td>100.000000</td>\n",
       "      <td>100.000000</td>\n",
       "      <td>85.542996</td>\n",
       "      <td>96.745053</td>\n",
       "      <td>8.524436</td>\n",
       "    </tr>\n",
       "    <tr>\n",
       "      <th>3</th>\n",
       "      <td>4</td>\n",
       "      <td>4</td>\n",
       "      <td>Isabella Buritica</td>\n",
       "      <td>22</td>\n",
       "      <td>2</td>\n",
       "      <td>1</td>\n",
       "      <td>1</td>\n",
       "      <td>1</td>\n",
       "      <td>4</td>\n",
       "      <td>4.0</td>\n",
       "      <td>...</td>\n",
       "      <td>1</td>\n",
       "      <td>3.037820</td>\n",
       "      <td>0.000000</td>\n",
       "      <td>21.201191</td>\n",
       "      <td>55.757021</td>\n",
       "      <td>78.809004</td>\n",
       "      <td>95.426271</td>\n",
       "      <td>74.450666</td>\n",
       "      <td>85.962145</td>\n",
       "      <td>50.000000</td>\n",
       "    </tr>\n",
       "    <tr>\n",
       "      <th>4</th>\n",
       "      <td>5</td>\n",
       "      <td>5</td>\n",
       "      <td>Kelys Avila</td>\n",
       "      <td>20</td>\n",
       "      <td>2</td>\n",
       "      <td>1</td>\n",
       "      <td>1</td>\n",
       "      <td>6</td>\n",
       "      <td>2</td>\n",
       "      <td>4.0</td>\n",
       "      <td>...</td>\n",
       "      <td>2</td>\n",
       "      <td>0.000000</td>\n",
       "      <td>19.167429</td>\n",
       "      <td>7.015222</td>\n",
       "      <td>50.689866</td>\n",
       "      <td>100.000000</td>\n",
       "      <td>100.000000</td>\n",
       "      <td>65.096134</td>\n",
       "      <td>96.745053</td>\n",
       "      <td>50.000000</td>\n",
       "    </tr>\n",
       "    <tr>\n",
       "      <th>5</th>\n",
       "      <td>6</td>\n",
       "      <td>6</td>\n",
       "      <td>RP</td>\n",
       "      <td>20</td>\n",
       "      <td>2</td>\n",
       "      <td>4</td>\n",
       "      <td>1</td>\n",
       "      <td>6</td>\n",
       "      <td>1</td>\n",
       "      <td>4.0</td>\n",
       "      <td>...</td>\n",
       "      <td>2</td>\n",
       "      <td>25.000000</td>\n",
       "      <td>76.959439</td>\n",
       "      <td>50.000000</td>\n",
       "      <td>50.000000</td>\n",
       "      <td>79.233160</td>\n",
       "      <td>80.195756</td>\n",
       "      <td>82.548067</td>\n",
       "      <td>71.745053</td>\n",
       "      <td>50.000000</td>\n",
       "    </tr>\n",
       "    <tr>\n",
       "      <th>6</th>\n",
       "      <td>7</td>\n",
       "      <td>7</td>\n",
       "      <td>María Cecilia García Bonet</td>\n",
       "      <td>20</td>\n",
       "      <td>2</td>\n",
       "      <td>1</td>\n",
       "      <td>1</td>\n",
       "      <td>6</td>\n",
       "      <td>1</td>\n",
       "      <td>4.0</td>\n",
       "      <td>...</td>\n",
       "      <td>2</td>\n",
       "      <td>0.000000</td>\n",
       "      <td>28.751144</td>\n",
       "      <td>46.700860</td>\n",
       "      <td>75.000000</td>\n",
       "      <td>100.000000</td>\n",
       "      <td>100.000000</td>\n",
       "      <td>75.934925</td>\n",
       "      <td>100.000000</td>\n",
       "      <td>25.000000</td>\n",
       "    </tr>\n",
       "    <tr>\n",
       "      <th>7</th>\n",
       "      <td>8</td>\n",
       "      <td>8</td>\n",
       "      <td>Jeiling Turriago Viana</td>\n",
       "      <td>20</td>\n",
       "      <td>2</td>\n",
       "      <td>1</td>\n",
       "      <td>1</td>\n",
       "      <td>6</td>\n",
       "      <td>3</td>\n",
       "      <td>4.0</td>\n",
       "      <td>...</td>\n",
       "      <td>1</td>\n",
       "      <td>3.037820</td>\n",
       "      <td>36.375419</td>\n",
       "      <td>25.205162</td>\n",
       "      <td>75.000000</td>\n",
       "      <td>78.842600</td>\n",
       "      <td>79.724662</td>\n",
       "      <td>82.548067</td>\n",
       "      <td>79.667336</td>\n",
       "      <td>50.000000</td>\n",
       "    </tr>\n",
       "    <tr>\n",
       "      <th>8</th>\n",
       "      <td>9</td>\n",
       "      <td>9</td>\n",
       "      <td>Juan Camilo Joya Caro</td>\n",
       "      <td>20</td>\n",
       "      <td>1</td>\n",
       "      <td>2</td>\n",
       "      <td>1</td>\n",
       "      <td>5</td>\n",
       "      <td>4</td>\n",
       "      <td>4.0</td>\n",
       "      <td>...</td>\n",
       "      <td>1</td>\n",
       "      <td>0.000000</td>\n",
       "      <td>0.000000</td>\n",
       "      <td>65.658504</td>\n",
       "      <td>63.137973</td>\n",
       "      <td>84.763985</td>\n",
       "      <td>100.000000</td>\n",
       "      <td>100.000000</td>\n",
       "      <td>100.000000</td>\n",
       "      <td>100.000000</td>\n",
       "    </tr>\n",
       "    <tr>\n",
       "      <th>9</th>\n",
       "      <td>10</td>\n",
       "      <td>10</td>\n",
       "      <td>Maria Martin</td>\n",
       "      <td>21</td>\n",
       "      <td>2</td>\n",
       "      <td>1</td>\n",
       "      <td>1</td>\n",
       "      <td>6</td>\n",
       "      <td>1</td>\n",
       "      <td>4.0</td>\n",
       "      <td>...</td>\n",
       "      <td>3</td>\n",
       "      <td>26.136037</td>\n",
       "      <td>38.334858</td>\n",
       "      <td>61.343481</td>\n",
       "      <td>49.426129</td>\n",
       "      <td>100.000000</td>\n",
       "      <td>79.162093</td>\n",
       "      <td>77.049440</td>\n",
       "      <td>61.306280</td>\n",
       "      <td>50.000000</td>\n",
       "    </tr>\n",
       "  </tbody>\n",
       "</table>\n",
       "<p>10 rows × 149 columns</p>\n",
       "</div>"
      ],
      "text/plain": [
       "   Unnamed: 0  Q1                          Q2  Q3  Q4  Q5  Q6  Q7  Q8   Q9  \\\n",
       "0           1   1                          Ls  20   2   1   1   1   2  4.0   \n",
       "1           2   2                       Angie  21   2   1   1   6   4  4.0   \n",
       "2           3   3                          AJ  21   1   1   1   2   3  4.0   \n",
       "3           4   4           Isabella Buritica  22   2   1   1   1   4  4.0   \n",
       "4           5   5                 Kelys Avila  20   2   1   1   6   2  4.0   \n",
       "5           6   6                          RP  20   2   4   1   6   1  4.0   \n",
       "6           7   7  María Cecilia García Bonet  20   2   1   1   6   1  4.0   \n",
       "7           8   8      Jeiling Turriago Viana  20   2   1   1   6   3  4.0   \n",
       "8           9   9       Juan Camilo Joya Caro  20   1   2   1   5   4  4.0   \n",
       "9          10  10                Maria Martin  21   2   1   1   6   1  4.0   \n",
       "\n",
       "   ...  estrato_gr ERV_desconfianza  ERV_riesgo  conspiracion  escepticis  \\\n",
       "0  ...           2        24.719586   15.248551     67.829252   75.000000   \n",
       "1  ...           2        10.465200   17.207990     56.839841   87.100122   \n",
       "2  ...           2         0.000000   59.919183     72.137657  100.000000   \n",
       "3  ...           1         3.037820    0.000000     21.201191   55.757021   \n",
       "4  ...           2         0.000000   19.167429      7.015222   50.689866   \n",
       "5  ...           2        25.000000   76.959439     50.000000   50.000000   \n",
       "6  ...           2         0.000000   28.751144     46.700860   75.000000   \n",
       "7  ...           1         3.037820   36.375419     25.205162   75.000000   \n",
       "8  ...           1         0.000000    0.000000     65.658504   63.137973   \n",
       "9  ...           3        26.136037   38.334858     61.343481   49.426129   \n",
       "\n",
       "  busc_importancia  busc_comportamiento  confi_redes  confi_experto  \\\n",
       "0        48.668738            20.837907    51.188464      66.633209   \n",
       "1        92.381992            90.230516    94.010142      85.962145   \n",
       "2       100.000000           100.000000    85.542996      96.745053   \n",
       "3        78.809004            95.426271    74.450666      85.962145   \n",
       "4       100.000000           100.000000    65.096134      96.745053   \n",
       "5        79.233160            80.195756    82.548067      71.745053   \n",
       "6       100.000000           100.000000    75.934925     100.000000   \n",
       "7        78.842600            79.724662    82.548067      79.667336   \n",
       "8        84.763985           100.000000   100.000000     100.000000   \n",
       "9       100.000000            79.162093    77.049440      61.306280   \n",
       "\n",
       "   confi_allegado  \n",
       "0       75.000000  \n",
       "1       75.000000  \n",
       "2        8.524436  \n",
       "3       50.000000  \n",
       "4       50.000000  \n",
       "5       50.000000  \n",
       "6       25.000000  \n",
       "7       50.000000  \n",
       "8      100.000000  \n",
       "9       50.000000  \n",
       "\n",
       "[10 rows x 149 columns]"
      ]
     },
     "execution_count": 2,
     "metadata": {},
     "output_type": "execute_result"
    }
   ],
   "source": [
    "datos = pd.read_csv('datosFinalesCalificados.csv',delimiter=\";\",decimal=',')\n",
    "datos.head(10)"
   ]
  },
  {
   "cell_type": "code",
   "execution_count": 3,
   "metadata": {},
   "outputs": [
    {
     "data": {
      "text/plain": [
       "array(['Unnamed: 0', 'Q1', 'Q2', 'Q3', 'Q4', 'Q5', 'Q6', 'Q7', 'Q8', 'Q9',\n",
       "       'Q10', 'Q11', 'Q12', 'Q13', 'Q14', 'Q15', 'Q16', 'Q17', 'Q18',\n",
       "       'Q19', 'Q20', 'Q21', 'Q22', 'Q23', 'Q24', 'Q25', 'Q26', 'Q27',\n",
       "       'Q28', 'Q29', 'Q30', 'Q31', 'Q32', 'Q33', 'Q34', 'Q35', 'Q36',\n",
       "       'Q37', 'Q38', 'Q39', 'Q40', 'Q41', 'Q42', 'Q43', 'Q44', 'Q45',\n",
       "       'Q46', 'Q47', 'Q48', 'Q49', 'Q50', 'Q51', 'Q52', 'Q53', 'Q54',\n",
       "       'Q55', 'Q56', 'Q57', 'Q58', 'Q59', 'Q60', 'Q61', 'Q62', 'Q63',\n",
       "       'Q64', 'Q65', 'Q66', 'Q67', 'Q68', 'Q69', 'Q70', 'Q71', 'Q72',\n",
       "       'Q73', 'Q74', 'Q75', 'Q76', 'Q77', 'Q78', 'Q79', 'Q80', 'Q81',\n",
       "       'Q82', 'Q83', 'Q84', 'Q85', 'Q86', 'Q87', 'Q88', 'Q89', 'Q90',\n",
       "       'Q91', 'Q92', 'Q93', 'Q94', 'Q95', 'Q96', 'Q97', 'Q98', 'Q99',\n",
       "       'Q100', 'Q101', 'Q102', 'Q103', 'Q104', 'Q105', 'Q106', 'Q107',\n",
       "       'Q108', 'Q109', 'Q110', 'Q111', 'Q112', 'Q113', 'Q114', 'Q115',\n",
       "       'Q116', 'Q117', 'Q118', 'Q119', 'Q120', 'Q121', 'Q122', 'Q123',\n",
       "       'Q124', 'Q125', 'Q126', 'Q127', 'Q128', 'Q129', 'Q130', 'Q131',\n",
       "       'Q132', 'Q133', 'Q134', 'Q135', 'Q136', 'Q137', 'Q138',\n",
       "       'estrato_gr', 'ERV_desconfianza', 'ERV_riesgo', 'conspiracion',\n",
       "       'escepticis', 'busc_importancia', 'busc_comportamiento',\n",
       "       'confi_redes', 'confi_experto', 'confi_allegado'], dtype=object)"
      ]
     },
     "execution_count": 3,
     "metadata": {},
     "output_type": "execute_result"
    }
   ],
   "source": [
    "datos.columns.values"
   ]
  },
  {
   "cell_type": "markdown",
   "metadata": {},
   "source": [
    "# Regresión ridge"
   ]
  },
  {
   "cell_type": "markdown",
   "metadata": {},
   "source": [
    "Seleccionamos las variables de interés y separamos los datos de entrenamiento y testeo. La desconfianza hacia las vacunas será nuestra variable objetivo"
   ]
  },
  {
   "cell_type": "code",
   "execution_count": 4,
   "metadata": {},
   "outputs": [],
   "source": [
    "etiq1=['conspiracion','escepticis', 'busc_importancia', 'busc_comportamiento','confi_redes', 'confi_experto', 'confi_allegado']\n",
    "x_train, x_test, y_train, y_test = train_test_split(datos[etiq1], datos['ERV_desconfianza'], random_state=0)"
   ]
  },
  {
   "cell_type": "markdown",
   "metadata": {},
   "source": [
    "Ahora escalamos los datos"
   ]
  },
  {
   "cell_type": "code",
   "execution_count": 5,
   "metadata": {},
   "outputs": [],
   "source": [
    "scaler = MinMaxScaler().fit(x_train)"
   ]
  },
  {
   "cell_type": "code",
   "execution_count": 6,
   "metadata": {},
   "outputs": [
    {
     "name": "stdout",
     "output_type": "stream",
     "text": [
      "Training set score: 0.46\n",
      "Test set score: 0.47\n",
      "Training set score: 0.43\n",
      "Test set score: 0.44\n",
      "Training set score: 0.46\n",
      "Test set score: 0.47\n",
      "Training set score: 0.46\n",
      "Test set score: 0.47\n",
      "Training set score: 0.46\n",
      "Test set score: 0.47\n",
      "Training set score: 0.46\n",
      "Test set score: 0.47\n"
     ]
    }
   ],
   "source": [
    "x_train_scaled = scaler.transform(x_train)\n",
    "x_test_scaled = scaler.transform(x_test)\n",
    "\n",
    "ridge = Ridge().fit(x_train_scaled, y_train)\n",
    "print(\"Training set score: {:.2f}\".format(ridge.score(x_train_scaled, y_train)))\n",
    "print(\"Test set score: {:.2f}\".format(ridge.score(x_test_scaled, y_test)))\n",
    "\n",
    "ridge01 = Ridge(alpha=10).fit(x_train_scaled, y_train)\n",
    "print(\"Training set score: {:.2f}\".format(ridge01.score(x_train_scaled, y_train)))\n",
    "print(\"Test set score: {:.2f}\".format(ridge01.score(x_test_scaled, y_test)))\n",
    "\n",
    "ridge1 = Ridge(alpha=1).fit(x_train_scaled, y_train)\n",
    "print(\"Training set score: {:.2f}\".format(ridge1.score(x_train_scaled, y_train)))\n",
    "print(\"Test set score: {:.2f}\".format(ridge1.score(x_test_scaled, y_test)))\n",
    "\n",
    "ridge10 = Ridge(alpha=0.1).fit(x_train_scaled, y_train)\n",
    "print(\"Training set score: {:.2f}\".format(ridge10.score(x_train_scaled, y_train)))\n",
    "print(\"Test set score: {:.2f}\".format(ridge10.score(x_test_scaled, y_test)))\n",
    "\n",
    "ridge100 = Ridge(alpha=0.01).fit(x_train_scaled, y_train)\n",
    "print(\"Training set score: {:.2f}\".format(ridge100.score(x_train_scaled, y_train)))\n",
    "print(\"Test set score: {:.2f}\".format(ridge100.score(x_test_scaled, y_test)))\n",
    "\n",
    "ridge1000 = Ridge(alpha=0.001).fit(x_train_scaled, y_train)\n",
    "print(\"Training set score: {:.2f}\".format(ridge1000.score(x_train_scaled, y_train)))\n",
    "print(\"Test set score: {:.2f}\".format(ridge1000.score(x_test_scaled, y_test)))"
   ]
  },
  {
   "cell_type": "code",
   "execution_count": 7,
   "metadata": {},
   "outputs": [
    {
     "name": "stderr",
     "output_type": "stream",
     "text": [
      "c:\\Users\\USER\\AppData\\Local\\Programs\\Python\\Python310\\lib\\site-packages\\sklearn\\utils\\deprecation.py:87: FutureWarning: Function load_boston is deprecated; `load_boston` is deprecated in 1.0 and will be removed in 1.2.\n",
      "\n",
      "    The Boston housing prices dataset has an ethical problem. You can refer to\n",
      "    the documentation of this function for further details.\n",
      "\n",
      "    The scikit-learn maintainers therefore strongly discourage the use of this\n",
      "    dataset unless the purpose of the code is to study and educate about\n",
      "    ethical issues in data science and machine learning.\n",
      "\n",
      "    In this special case, you can fetch the dataset from the original\n",
      "    source::\n",
      "\n",
      "        import pandas as pd\n",
      "        import numpy as np\n",
      "\n",
      "        data_url = \"http://lib.stat.cmu.edu/datasets/boston\"\n",
      "        raw_df = pd.read_csv(data_url, sep=\"\\s+\", skiprows=22, header=None)\n",
      "        data = np.hstack([raw_df.values[::2, :], raw_df.values[1::2, :2]])\n",
      "        target = raw_df.values[1::2, 2]\n",
      "\n",
      "    Alternative datasets include the California housing dataset (i.e.\n",
      "    :func:`~sklearn.datasets.fetch_california_housing`) and the Ames housing\n",
      "    dataset. You can load the datasets as follows::\n",
      "\n",
      "        from sklearn.datasets import fetch_california_housing\n",
      "        housing = fetch_california_housing()\n",
      "\n",
      "    for the California housing dataset and::\n",
      "\n",
      "        from sklearn.datasets import fetch_openml\n",
      "        housing = fetch_openml(name=\"house_prices\", as_frame=True)\n",
      "\n",
      "    for the Ames housing dataset.\n",
      "  warnings.warn(msg, category=FutureWarning)\n"
     ]
    },
    {
     "data": {
      "image/png": "[encoded data removed]",
      "text/plain": [
       "<Figure size 640x480 with 1 Axes>"
      ]
     },
     "metadata": {},
     "output_type": "display_data"
    }
   ],
   "source": [
    "mglearn.plots.plot_ridge_n_samples()"
   ]
  },
  {
   "cell_type": "markdown",
   "metadata": {},
   "source": [
    "# Support vector machine (SVM)"
   ]
  },
  {
   "cell_type": "markdown",
   "metadata": {},
   "source": [
    "Para este análisis es necesario segmentar la variable objetivo en grupos."
   ]
  },
  {
   "cell_type": "code",
   "execution_count": 8,
   "metadata": {},
   "outputs": [
    {
     "data": {
      "text/plain": [
       "low     558\n",
       "high    140\n",
       "Name: ERV_cat, dtype: int64"
      ]
     },
     "execution_count": 8,
     "metadata": {},
     "output_type": "execute_result"
    }
   ],
   "source": [
    "a=pd.DataFrame(datos.ERV_desconfianza.quantile([0.75]))\n",
    "x1=datos['ERV_desconfianza']\n",
    "datos['ERV_cat'] = np.where(x1 <=  a.iloc[0,0], \"low\", \"high\")\n",
    "pd.value_counts(datos['ERV_cat'])"
   ]
  },
  {
   "cell_type": "markdown",
   "metadata": {},
   "source": [
    "A continuación dividimos los datos en entrenamiento y testeo"
   ]
  },
  {
   "cell_type": "code",
   "execution_count": 9,
   "metadata": {},
   "outputs": [],
   "source": [
    "x_train, x_test, y_train, y_test = train_test_split(datos[etiq1], datos['ERV_cat'], stratify= datos['ERV_cat'],random_state=0)\n",
    "scaler = MinMaxScaler().fit(x_train)"
   ]
  },
  {
   "cell_type": "markdown",
   "metadata": {},
   "source": [
    "Ejecutamos el modelo de SVM y hacemos validación cruzada con GreadSearch"
   ]
  },
  {
   "cell_type": "code",
   "execution_count": 10,
   "metadata": {},
   "outputs": [
    {
     "name": "stdout",
     "output_type": "stream",
     "text": [
      "Best cross-validation accuracy: 0.84\n",
      "Test set score: 0.823\n",
      "Best parameters: {'svm__C': 100, 'svm__gamma': 0.1}\n"
     ]
    }
   ],
   "source": [
    "param_grid = {'svm__C': [1,10,100,1000], \n",
    "              'svm__gamma': [0.0001,0.001, 0.01, 0.1,1]}\n",
    "\n",
    "pipe = Pipeline([(\"scaler\", MinMaxScaler()), (\"svm\", SVC())])\n",
    "grid = GridSearchCV(pipe, param_grid=param_grid, cv=5,n_jobs=-1)\n",
    "grid.fit(x_train, y_train)\n",
    "print(\"Best cross-validation accuracy: {:.2f}\".format(grid.best_score_))\n",
    "print(\"Test set score: {:.3f}\".format(grid.score(x_test, y_test)))\n",
    "print(\"Best parameters: {}\".format(grid.best_params_))"
   ]
  },
  {
   "cell_type": "code",
   "execution_count": 11,
   "metadata": {},
   "outputs": [
    {
     "data": {
      "image/png": "[encoded data removed]",
      "text/plain": [
       "<Figure size 640x480 with 1 Axes>"
      ]
     },
     "metadata": {},
     "output_type": "display_data"
    }
   ],
   "source": [
    "results = pd.DataFrame(grid.cv_results_)\n",
    "scores = np.array(results.mean_test_score).reshape(4, 5)\n",
    "mglearn.tools.heatmap(scores, \n",
    "                      xlabel='gamma', \n",
    "                      xticklabels=param_grid['svm__gamma'], \n",
    "                      ylabel='C', \n",
    "                      yticklabels=param_grid['svm__C'], \n",
    "                      cmap=\"viridis\");"
   ]
  },
  {
   "cell_type": "code",
   "execution_count": 12,
   "metadata": {},
   "outputs": [
    {
     "data": {
      "image/png": "[encoded data removed]",
      "text/plain": [
       "<Figure size 640x480 with 1 Axes>"
      ]
     },
     "metadata": {},
     "output_type": "display_data"
    }
   ],
   "source": [
    "pred=grid.predict(x_test)\n",
    "scores_image = mglearn.tools.heatmap(confusion_matrix(y_test, pred), \n",
    "                                     xlabel='Predicted label',\n",
    "                                     ylabel='True label', \n",
    "                                     xticklabels=np.unique(datos.ERV_cat),\n",
    "                                     yticklabels=np.unique(datos.ERV_cat), \n",
    "                                     cmap=plt.cm.gray_r, \n",
    "                                     fmt=\"%d\")\n",
    "plt.title(\"Confusion matrix\")\n",
    "plt.gca().invert_yaxis()"
   ]
  },
  {
   "cell_type": "code",
   "execution_count": 13,
   "metadata": {},
   "outputs": [
    {
     "name": "stdout",
     "output_type": "stream",
     "text": [
      "              precision    recall  f1-score   support\n",
      "\n",
      "        high       0.83      0.14      0.24        35\n",
      "         low       0.82      0.99      0.90       140\n",
      "\n",
      "    accuracy                           0.82       175\n",
      "   macro avg       0.83      0.57      0.57       175\n",
      "weighted avg       0.82      0.82      0.77       175\n",
      "\n"
     ]
    }
   ],
   "source": [
    "print(classification_report(y_test, pred))"
   ]
  },
  {
   "cell_type": "markdown",
   "metadata": {},
   "source": [
    "# Random Forest"
   ]
  },
  {
   "cell_type": "code",
   "execution_count": 14,
   "metadata": {},
   "outputs": [
    {
     "name": "stdout",
     "output_type": "stream",
     "text": [
      "Best params:\n",
      "{'classifier': RandomForestClassifier(max_features=1), 'classifier__max_features': 1, 'preprocessing': None}\n",
      "\n",
      "Best cross-validation score: 0.85\n",
      "Test-set score: 0.834\n"
     ]
    }
   ],
   "source": [
    "pipe = Pipeline([('preprocessing', MinMaxScaler()), ('classifier', RandomForestClassifier())])\n",
    "\n",
    "param_grid = [{'classifier': [RandomForestClassifier(n_estimators=100)],\n",
    "\n",
    "               'preprocessing': [None], 'classifier__max_features': [1, 2, 3, 4, 5, 6, 7]}]\n",
    "\n",
    "grid = GridSearchCV(pipe, param_grid, cv=5)\n",
    "\n",
    "grid.fit(x_train, y_train)\n",
    "\n",
    "print(\"Best params:\\n{}\\n\".format(grid.best_params_))\n",
    "\n",
    "print(\"Best cross-validation score: {:.2f}\".format(grid.best_score_))\n",
    "\n",
    "print(\"Test-set score: {:.3f}\".format(grid.score(x_test, y_test)))"
   ]
  },
  {
   "cell_type": "code",
   "execution_count": 15,
   "metadata": {},
   "outputs": [
    {
     "data": {
      "image/png": "[encoded data removed]",
      "text/plain": [
       "<Figure size 640x480 with 1 Axes>"
      ]
     },
     "metadata": {},
     "output_type": "display_data"
    }
   ],
   "source": [
    "pred=grid.predict(x_test)\n",
    "scores_image = mglearn.tools.heatmap(confusion_matrix(y_test, pred), \n",
    "                                     xlabel='Predicted label',\n",
    "                                     ylabel='True label', \n",
    "                                     xticklabels=np.unique(datos.ERV_cat),\n",
    "                                     yticklabels=np.unique(datos.ERV_cat), \n",
    "                                     cmap=plt.cm.gray_r, \n",
    "                                     fmt=\"%d\")\n",
    "plt.title(\"Confusion matrix\")\n",
    "plt.gca().invert_yaxis()"
   ]
  },
  {
   "cell_type": "code",
   "execution_count": 16,
   "metadata": {},
   "outputs": [
    {
     "name": "stdout",
     "output_type": "stream",
     "text": [
      "              precision    recall  f1-score   support\n",
      "\n",
      "        high       0.71      0.29      0.41        35\n",
      "         low       0.84      0.97      0.90       140\n",
      "\n",
      "    accuracy                           0.83       175\n",
      "   macro avg       0.78      0.63      0.66       175\n",
      "weighted avg       0.82      0.83      0.80       175\n",
      "\n"
     ]
    }
   ],
   "source": [
    "print(classification_report(y_test, pred))"
   ]
  },
  {
   "cell_type": "markdown",
   "metadata": {},
   "source": [
    "# Regresión logística"
   ]
  },
  {
   "cell_type": "code",
   "execution_count": 17,
   "metadata": {},
   "outputs": [
    {
     "name": "stdout",
     "output_type": "stream",
     "text": [
      "Best cross-validation accuracy: 0.84\n",
      "Test set score: 0.834\n",
      "Best parameters: {'logisticregression__C': 100}\n"
     ]
    }
   ],
   "source": [
    "param_grid={'logisticregression__C': [0.01, 0.1, 1, 10, 100]}\n",
    "\n",
    "pipe = Pipeline([(\"scaler\", MinMaxScaler()), (\"logisticregression\", LogisticRegression())])\n",
    "grid = GridSearchCV(pipe, param_grid=param_grid, cv=5, n_jobs = -1)\n",
    "grid.fit(x_train, y_train)\n",
    "print(\"Best cross-validation accuracy: {:.2f}\".format(grid.best_score_))\n",
    "print(\"Test set score: {:.3f}\".format(grid.score(x_test, y_test)))\n",
    "print(\"Best parameters: {}\".format(grid.best_params_))"
   ]
  },
  {
   "cell_type": "code",
   "execution_count": 18,
   "metadata": {},
   "outputs": [
    {
     "data": {
      "image/png": "[encoded data removed]",
      "text/plain": [
       "<Figure size 640x480 with 1 Axes>"
      ]
     },
     "metadata": {},
     "output_type": "display_data"
    }
   ],
   "source": [
    "pred=grid.predict(x_test)\n",
    "scores_image = mglearn.tools.heatmap(confusion_matrix(y_test, pred), \n",
    "                                     xlabel='Predicted label',\n",
    "                                     ylabel='True label', \n",
    "                                     xticklabels=np.unique(datos.ERV_cat),\n",
    "                                     yticklabels=np.unique(datos.ERV_cat), \n",
    "                                     cmap=plt.cm.gray_r, \n",
    "                                     fmt=\"%d\")\n",
    "plt.title(\"Confusion matrix\")\n",
    "plt.gca().invert_yaxis()"
   ]
  },
  {
   "cell_type": "code",
   "execution_count": 19,
   "metadata": {},
   "outputs": [
    {
     "name": "stdout",
     "output_type": "stream",
     "text": [
      "              precision    recall  f1-score   support\n",
      "\n",
      "        high       0.71      0.29      0.41        35\n",
      "         low       0.84      0.97      0.90       140\n",
      "\n",
      "    accuracy                           0.83       175\n",
      "   macro avg       0.78      0.63      0.66       175\n",
      "weighted avg       0.82      0.83      0.80       175\n",
      "\n"
     ]
    }
   ],
   "source": [
    "print(classification_report(y_test, pred))"
   ]
  },
  {
   "cell_type": "markdown",
   "metadata": {},
   "source": []
  },
  {
   "cell_type": "markdown",
   "metadata": {},
   "source": [
    "# XG Boosting"
   ]
  },
  {
   "cell_type": "code",
   "execution_count": 20,
   "metadata": {},
   "outputs": [],
   "source": [
    "a=pd.DataFrame(datos.ERV_desconfianza.quantile([0.75]))\n",
    "x1=datos['ERV_desconfianza']\n",
    "datos['ERV_cat2'] = np.where(x1 <=  a.iloc[0,0], 0,1)\n",
    "pd.value_counts(datos['ERV_cat2'])\n",
    "x_train, x_test, y_train, y_test = train_test_split(datos[etiq1], datos['ERV_cat2'], stratify= datos['ERV_cat2'],random_state=0)\n",
    "scaler = MinMaxScaler().fit(x_train)"
   ]
  },
  {
   "cell_type": "code",
   "execution_count": 21,
   "metadata": {},
   "outputs": [
    {
     "name": "stdout",
     "output_type": "stream",
     "text": [
      "Best cross-validation accuracy: 0.83\n",
      "Test set score: 0.811\n",
      "Best parameters: {'Gradient_boosting__eta': 0.01, 'Gradient_boosting__gamma': 1, 'Gradient_boosting__learning_rate': 0.1, 'Gradient_boosting__n_estimators': 20}\n"
     ]
    }
   ],
   "source": [
    "param_grid = {'Gradient_boosting__n_estimators': [10, 20, 30, 40],\n",
    "              'Gradient_boosting__gamma' : [0.1, 1, 10, 100],\n",
    "              'Gradient_boosting__eta' : [0.01, 0.1, 1, 10],\n",
    "              'Gradient_boosting__learning_rate' : [0.1,1,10,100]}\n",
    "\n",
    "pipe = Pipeline([(\"scaler\", MinMaxScaler()),(\"Gradient_boosting\", xgb.XGBClassifier(objective=\"binary:logistic\",\n",
    " booster='gbtree',eval_metric=\"auc\",seed=0))])\n",
    "\n",
    "grid = GridSearchCV(pipe, param_grid=param_grid, cv=5, n_jobs = -1)\n",
    "grid.fit(x_train, y_train)\n",
    "print(\"Best cross-validation accuracy: {:.2f}\".format(grid.best_score_))\n",
    "print(\"Test set score: {:.3f}\".format(grid.score(x_test, y_test)))\n",
    "print(\"Best parameters: {}\".format(grid.best_params_))"
   ]
  },
  {
   "cell_type": "code",
   "execution_count": 22,
   "metadata": {},
   "outputs": [
    {
     "data": {
      "image/png": "[encoded data removed]",
      "text/plain": [
       "<Figure size 640x480 with 1 Axes>"
      ]
     },
     "metadata": {},
     "output_type": "display_data"
    }
   ],
   "source": [
    "pred=grid.predict(x_test)\n",
    "scores_image = mglearn.tools.heatmap(confusion_matrix(y_test, pred), \n",
    "                                     xlabel='Predicted label',\n",
    "                                     ylabel='True label', \n",
    "                                     xticklabels=np.unique(datos.ERV_cat2),\n",
    "                                     yticklabels=np.unique(datos.ERV_cat2), \n",
    "                                     cmap=plt.cm.gray_r, \n",
    "                                     fmt=\"%d\")\n",
    "plt.title(\"Confusion matrix\")\n",
    "plt.gca().invert_yaxis()"
   ]
  },
  {
   "cell_type": "code",
   "execution_count": 23,
   "metadata": {},
   "outputs": [
    {
     "name": "stdout",
     "output_type": "stream",
     "text": [
      "              precision    recall  f1-score   support\n",
      "\n",
      "           0       0.84      0.94      0.89       140\n",
      "           1       0.56      0.29      0.38        35\n",
      "\n",
      "    accuracy                           0.81       175\n",
      "   macro avg       0.70      0.61      0.63       175\n",
      "weighted avg       0.78      0.81      0.79       175\n",
      "\n"
     ]
    }
   ],
   "source": [
    "print(classification_report(y_test, pred))"
   ]
  },
  {
   "cell_type": "markdown",
   "metadata": {},
   "source": [
    "# Analisis de importancia"
   ]
  },
  {
   "cell_type": "code",
   "execution_count": 24,
   "metadata": {},
   "outputs": [
    {
     "name": "stdout",
     "output_type": "stream",
     "text": [
      "Best params:\n",
      "{'classifier': RandomForestClassifier(max_features=1), 'classifier__max_features': 1, 'preprocessing': None}\n",
      "\n",
      "Best cross-validation score: 0.85\n",
      "Test-set score: 0.834\n"
     ]
    }
   ],
   "source": [
    "x_train, x_test, y_train, y_test = train_test_split(datos[etiq1], datos['ERV_cat'], stratify= datos['ERV_cat'],random_state=0)\n",
    "pipe = Pipeline([('preprocessing', MinMaxScaler()), ('classifier', RandomForestClassifier())])\n",
    "\n",
    "param_grid = [{'classifier': [RandomForestClassifier(n_estimators=100)],\n",
    "\n",
    "               'preprocessing': [None], 'classifier__max_features': [1, 2, 3, 4, 5, 6, 7]}]\n",
    "\n",
    "grid = GridSearchCV(pipe, param_grid, cv=5)\n",
    "\n",
    "grid.fit(x_train, y_train)\n",
    "\n",
    "print(\"Best params:\\n{}\\n\".format(grid.best_params_))\n",
    "\n",
    "print(\"Best cross-validation score: {:.2f}\".format(grid.best_score_))\n",
    "\n",
    "print(\"Test-set score: {:.3f}\".format(grid.score(x_test, y_test)))"
   ]
  },
  {
   "cell_type": "code",
   "execution_count": 27,
   "metadata": {},
   "outputs": [
    {
     "data": {
      "text/plain": [
       "<AxesSubplot: xlabel='x', ylabel='y'>"
      ]
     },
     "execution_count": 27,
     "metadata": {},
     "output_type": "execute_result"
    },
    {
     "data": {
      "image/png": "[encoded data removed]",
      "text/plain": [
       "<Figure size 640x480 with 1 Axes>"
      ]
     },
     "metadata": {},
     "output_type": "display_data"
    }
   ],
   "source": [
    "features=grid.best_estimator_.named_steps.classifier.feature_importances_\n",
    "df={'x':features,'y':datos[etiq1].columns}\n",
    "df=pd.DataFrame(df)\n",
    "sns.barplot(data=df, x=\"x\", y=\"y\")"
   ]
  }
 ],
 "metadata": {
  "kernelspec": {
   "display_name": "Python 3.10.8 64-bit",
   "language": "python",
   "name": "python3"
  },
  "language_info": {
   "codemirror_mode": {
    "name": "ipython",
    "version": 3
   },
   "file_extension": ".py",
   "mimetype": "text/x-python",
   "name": "python",
   "nbconvert_exporter": "python",
   "pygments_lexer": "ipython3",
   "version": "3.10.8"
  },
  "orig_nbformat": 4,
  "vscode": {
   "interpreter": {
    "hash": "df95319d8ce4e1d89f5365ae10992bc1f65da593082b1d264e8f529830ec2f02"
   }
  }
 },
 "nbformat": 4,
 "nbformat_minor": 2
}
