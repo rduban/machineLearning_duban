{
 "cells": [
  {
   "cell_type": "markdown",
   "metadata": {},
   "source": [
    "# Analisis sexualidad"
   ]
  },
  {
   "cell_type": "markdown",
   "metadata": {},
   "source": [
    "Importamos los recursos"
   ]
  },
  {
   "cell_type": "code",
   "execution_count": 41,
   "metadata": {},
   "outputs": [],
   "source": [
    "import pandas as pd\n",
    "import numpy as np\n",
    "from sklearn.model_selection import train_test_split\n",
    "from sklearn.preprocessing import MinMaxScaler\n",
    "import mglearn\n",
    "from sklearn.linear_model import Ridge\n",
    "from sklearn.linear_model import RidgeCV\n",
    "from sklearn.svm import SVC\n",
    "from sklearn.ensemble import RandomForestClassifier\n",
    "from sklearn.linear_model import LogisticRegression\n",
    "import xgboost as xgb\n",
    "from sklearn.ensemble import GradientBoostingClassifier\n",
    "from sklearn.model_selection import GridSearchCV\n",
    "from sklearn.pipeline import Pipeline\n",
    "from sklearn.metrics import confusion_matrix\n",
    "import matplotlib.pyplot as plt\n",
    "from sklearn.metrics import classification_report\n",
    "import seaborn as sns"
   ]
  },
  {
   "cell_type": "markdown",
   "metadata": {},
   "source": [
    "Importamos los datos"
   ]
  },
  {
   "cell_type": "code",
   "execution_count": 8,
   "metadata": {},
   "outputs": [
    {
     "data": {
      "text/html": [
       "<div>\n",
       "<style scoped>\n",
       "    .dataframe tbody tr th:only-of-type {\n",
       "        vertical-align: middle;\n",
       "    }\n",
       "\n",
       "    .dataframe tbody tr th {\n",
       "        vertical-align: top;\n",
       "    }\n",
       "\n",
       "    .dataframe thead th {\n",
       "        text-align: right;\n",
       "    }\n",
       "</style>\n",
       "<table border=\"1\" class=\"dataframe\">\n",
       "  <thead>\n",
       "    <tr style=\"text-align: right;\">\n",
       "      <th></th>\n",
       "      <th>Unnamed: 0</th>\n",
       "      <th>p1</th>\n",
       "      <th>p2</th>\n",
       "      <th>p3</th>\n",
       "      <th>p4</th>\n",
       "      <th>p5</th>\n",
       "      <th>p6</th>\n",
       "      <th>p7</th>\n",
       "      <th>p8</th>\n",
       "      <th>p9</th>\n",
       "      <th>...</th>\n",
       "      <th>redes_emocion</th>\n",
       "      <th>redes_rutina</th>\n",
       "      <th>extraversion</th>\n",
       "      <th>amabilidad</th>\n",
       "      <th>escrupulo</th>\n",
       "      <th>afect_nega</th>\n",
       "      <th>apertura</th>\n",
       "      <th>maquiavel</th>\n",
       "      <th>narcisis</th>\n",
       "      <th>psicopa</th>\n",
       "    </tr>\n",
       "  </thead>\n",
       "  <tbody>\n",
       "    <tr>\n",
       "      <th>0</th>\n",
       "      <td>1</td>\n",
       "      <td>53959060</td>\n",
       "      <td>Completed</td>\n",
       "      <td>179.15.124.18</td>\n",
       "      <td>2021-08-26 13:48:54</td>\n",
       "      <td>False</td>\n",
       "      <td>849</td>\n",
       "      <td>1</td>\n",
       "      <td>CO</td>\n",
       "      <td>ANT</td>\n",
       "      <td>...</td>\n",
       "      <td>35.106383</td>\n",
       "      <td>60.188968</td>\n",
       "      <td>58.333333</td>\n",
       "      <td>83.333333</td>\n",
       "      <td>83.333333</td>\n",
       "      <td>41.666667</td>\n",
       "      <td>66.666667</td>\n",
       "      <td>36.111111</td>\n",
       "      <td>55.555556</td>\n",
       "      <td>2.777778</td>\n",
       "    </tr>\n",
       "    <tr>\n",
       "      <th>1</th>\n",
       "      <td>2</td>\n",
       "      <td>53959737</td>\n",
       "      <td>Completed</td>\n",
       "      <td>191.95.16.235</td>\n",
       "      <td>2021-08-26 14:30:42</td>\n",
       "      <td>False</td>\n",
       "      <td>871</td>\n",
       "      <td>1</td>\n",
       "      <td>CO</td>\n",
       "      <td>ATL</td>\n",
       "      <td>...</td>\n",
       "      <td>25.000000</td>\n",
       "      <td>35.924504</td>\n",
       "      <td>58.333333</td>\n",
       "      <td>75.000000</td>\n",
       "      <td>75.000000</td>\n",
       "      <td>41.666667</td>\n",
       "      <td>75.000000</td>\n",
       "      <td>36.111111</td>\n",
       "      <td>44.444444</td>\n",
       "      <td>25.000000</td>\n",
       "    </tr>\n",
       "    <tr>\n",
       "      <th>2</th>\n",
       "      <td>3</td>\n",
       "      <td>53960505</td>\n",
       "      <td>Completed</td>\n",
       "      <td>186.169.203.213</td>\n",
       "      <td>2021-08-26 15:17:42</td>\n",
       "      <td>False</td>\n",
       "      <td>1488</td>\n",
       "      <td>1</td>\n",
       "      <td>CO</td>\n",
       "      <td>ATL</td>\n",
       "      <td>...</td>\n",
       "      <td>70.512291</td>\n",
       "      <td>75.000000</td>\n",
       "      <td>58.333333</td>\n",
       "      <td>50.000000</td>\n",
       "      <td>66.666667</td>\n",
       "      <td>33.333333</td>\n",
       "      <td>66.666667</td>\n",
       "      <td>44.444444</td>\n",
       "      <td>61.111111</td>\n",
       "      <td>16.666667</td>\n",
       "    </tr>\n",
       "    <tr>\n",
       "      <th>3</th>\n",
       "      <td>4</td>\n",
       "      <td>53988796</td>\n",
       "      <td>Completed</td>\n",
       "      <td>179.13.234.31</td>\n",
       "      <td>2021-08-29 20:40:08</td>\n",
       "      <td>False</td>\n",
       "      <td>1312</td>\n",
       "      <td>1</td>\n",
       "      <td>CO</td>\n",
       "      <td>SUC</td>\n",
       "      <td>...</td>\n",
       "      <td>40.864887</td>\n",
       "      <td>86.492322</td>\n",
       "      <td>75.000000</td>\n",
       "      <td>75.000000</td>\n",
       "      <td>50.000000</td>\n",
       "      <td>41.666667</td>\n",
       "      <td>66.666667</td>\n",
       "      <td>41.666667</td>\n",
       "      <td>52.777778</td>\n",
       "      <td>16.666667</td>\n",
       "    </tr>\n",
       "    <tr>\n",
       "      <th>4</th>\n",
       "      <td>5</td>\n",
       "      <td>54032323</td>\n",
       "      <td>Completed</td>\n",
       "      <td>190.143.54.144</td>\n",
       "      <td>2021-09-01 06:31:17</td>\n",
       "      <td>False</td>\n",
       "      <td>727</td>\n",
       "      <td>1</td>\n",
       "      <td>CO</td>\n",
       "      <td>ATL</td>\n",
       "      <td>...</td>\n",
       "      <td>0.000000</td>\n",
       "      <td>69.537748</td>\n",
       "      <td>66.666667</td>\n",
       "      <td>66.666667</td>\n",
       "      <td>83.333333</td>\n",
       "      <td>50.000000</td>\n",
       "      <td>91.666667</td>\n",
       "      <td>38.888889</td>\n",
       "      <td>72.222222</td>\n",
       "      <td>30.555556</td>\n",
       "    </tr>\n",
       "  </tbody>\n",
       "</table>\n",
       "<p>5 rows × 179 columns</p>\n",
       "</div>"
      ],
      "text/plain": [
       "   Unnamed: 0        p1         p2               p3                   p4  \\\n",
       "0           1  53959060  Completed    179.15.124.18  2021-08-26 13:48:54   \n",
       "1           2  53959737  Completed    191.95.16.235  2021-08-26 14:30:42   \n",
       "2           3  53960505  Completed  186.169.203.213  2021-08-26 15:17:42   \n",
       "3           4  53988796  Completed    179.13.234.31  2021-08-29 20:40:08   \n",
       "4           5  54032323  Completed   190.143.54.144  2021-09-01 06:31:17   \n",
       "\n",
       "      p5    p6  p7  p8   p9  ...  redes_emocion  redes_rutina  extraversion  \\\n",
       "0  False   849   1  CO  ANT  ...      35.106383     60.188968     58.333333   \n",
       "1  False   871   1  CO  ATL  ...      25.000000     35.924504     58.333333   \n",
       "2  False  1488   1  CO  ATL  ...      70.512291     75.000000     58.333333   \n",
       "3  False  1312   1  CO  SUC  ...      40.864887     86.492322     75.000000   \n",
       "4  False   727   1  CO  ATL  ...       0.000000     69.537748     66.666667   \n",
       "\n",
       "   amabilidad  escrupulo  afect_nega   apertura  maquiavel   narcisis  \\\n",
       "0   83.333333  83.333333   41.666667  66.666667  36.111111  55.555556   \n",
       "1   75.000000  75.000000   41.666667  75.000000  36.111111  44.444444   \n",
       "2   50.000000  66.666667   33.333333  66.666667  44.444444  61.111111   \n",
       "3   75.000000  50.000000   41.666667  66.666667  41.666667  52.777778   \n",
       "4   66.666667  83.333333   50.000000  91.666667  38.888889  72.222222   \n",
       "\n",
       "     psicopa  \n",
       "0   2.777778  \n",
       "1  25.000000  \n",
       "2  16.666667  \n",
       "3  16.666667  \n",
       "4  30.555556  \n",
       "\n",
       "[5 rows x 179 columns]"
      ]
     },
     "execution_count": 8,
     "metadata": {},
     "output_type": "execute_result"
    }
   ],
   "source": [
    "datos = pd.read_csv('datosCalificados.csv',delimiter=\";\",decimal=',')\n",
    "datos.head(5)"
   ]
  },
  {
   "cell_type": "code",
   "execution_count": 9,
   "metadata": {},
   "outputs": [
    {
     "data": {
      "text/plain": [
       "array(['Unnamed: 0', 'p1', 'p2', 'p3', 'p4', 'p5', 'p6', 'p7', 'p8', 'p9',\n",
       "       'p10', 'p11', 'p12', 'p13', 'p14', 'p15', 'p16', 'p17', 'p18',\n",
       "       'p19', 'p20', 'p21', 'p22', 'p23', 'p24', 'p25', 'p26', 'p27',\n",
       "       'p28', 'p29', 'p30', 'p31', 'p32', 'p33', 'p34', 'p35', 'p36',\n",
       "       'p37', 'p38', 'p39', 'p40', 'p41', 'p42', 'p43', 'p44', 'p45',\n",
       "       'p46', 'p47', 'p48', 'p49', 'p50', 'p51', 'p52', 'p53', 'p54',\n",
       "       'p55', 'p56', 'p57', 'p58', 'p59', 'p60', 'p61', 'p62', 'p63',\n",
       "       'p64', 'p65', 'p66', 'p67', 'p68', 'p69', 'p70', 'p71', 'p72',\n",
       "       'p73', 'p74', 'p75', 'p76', 'p77', 'p78', 'p79', 'p80', 'p81',\n",
       "       'p82', 'p83', 'p84', 'p85', 'p86', 'p87', 'p88', 'p89', 'p90',\n",
       "       'p91', 'p92', 'p93', 'p94', 'p95', 'p96', 'p97', 'p98', 'p99',\n",
       "       'p100', 'p101', 'p102', 'p103', 'p104', 'p105', 'p106', 'p107',\n",
       "       'p108', 'p109', 'p110', 'p111', 'p112', 'p113', 'p114', 'p115',\n",
       "       'p116', 'p117', 'p118', 'p119', 'p120', 'p121', 'p122', 'p123',\n",
       "       'p124', 'p125', 'p126', 'p127', 'p128', 'p129', 'p130', 'p131',\n",
       "       'p132', 'p133', 'p134', 'p135', 'p136', 'p137', 'p138', 'p139',\n",
       "       'p140', 'p141', 'p142', 'p143', 'p144', 'p145', 'p146', 'p147',\n",
       "       'p148', 'p149', 'p150', 'edadGrupo', 'maritalGrupo',\n",
       "       'sociosexualidadGeneral', 'conducta', 'actitud', 'deseo',\n",
       "       'autoeficaciaOnline', 'autoeficaciaOffline', 'conflictosFacebook',\n",
       "       'ImpulsoPropio', 'ImpulsoPareja', 'Impulsoradio', 'ImpulsoAPG',\n",
       "       'prevencion', 'promocion', 'satisIndividual', 'satisInterpersonal',\n",
       "       'funcionSexual', 'redes_emocion', 'redes_rutina', 'extraversion',\n",
       "       'amabilidad', 'escrupulo', 'afect_nega', 'apertura', 'maquiavel',\n",
       "       'narcisis', 'psicopa'], dtype=object)"
      ]
     },
     "execution_count": 9,
     "metadata": {},
     "output_type": "execute_result"
    }
   ],
   "source": [
    "datos.columns.values"
   ]
  },
  {
   "cell_type": "markdown",
   "metadata": {},
   "source": [
    "Frecuencias para estatus marital y genero"
   ]
  },
  {
   "cell_type": "code",
   "execution_count": 10,
   "metadata": {},
   "outputs": [
    {
     "data": {
      "text/plain": [
       "2    393\n",
       "5    200\n",
       "3    125\n",
       "1     72\n",
       "4     67\n",
       "Name: p126, dtype: int64"
      ]
     },
     "execution_count": 10,
     "metadata": {},
     "output_type": "execute_result"
    }
   ],
   "source": [
    "pd.value_counts(datos['p126']) # estatus marital"
   ]
  },
  {
   "cell_type": "code",
   "execution_count": 11,
   "metadata": {},
   "outputs": [
    {
     "data": {
      "text/plain": [
       "Femenino     503\n",
       "Masculino    342\n",
       "Name: p142, dtype: int64"
      ]
     },
     "execution_count": 11,
     "metadata": {},
     "output_type": "execute_result"
    }
   ],
   "source": [
    "pd.value_counts(datos['p142']) # genero"
   ]
  },
  {
   "cell_type": "markdown",
   "metadata": {},
   "source": [
    "Contamos valores perdidos"
   ]
  },
  {
   "cell_type": "code",
   "execution_count": 12,
   "metadata": {},
   "outputs": [
    {
     "data": {
      "text/plain": [
       "conducta          0\n",
       "actitud           1\n",
       "deseo             0\n",
       "ImpulsoPropio     1\n",
       "funcionSexual    15\n",
       "extraversion      1\n",
       "amabilidad        1\n",
       "escrupulo         1\n",
       "afect_nega        1\n",
       "apertura          1\n",
       "maquiavel         1\n",
       "narcisis          1\n",
       "psicopa           1\n",
       "dtype: int64"
      ]
     },
     "execution_count": 12,
     "metadata": {},
     "output_type": "execute_result"
    }
   ],
   "source": [
    "etiq1=['conducta', 'actitud', 'deseo','ImpulsoPropio','funcionSexual','extraversion','amabilidad','escrupulo','afect_nega','apertura','maquiavel','narcisis','psicopa']\n",
    "datos[etiq1].isnull().sum()"
   ]
  },
  {
   "cell_type": "code",
   "execution_count": 13,
   "metadata": {},
   "outputs": [],
   "source": [
    "datos[etiq1]= datos[etiq1].fillna(method=\"ffill\")\n",
    "datos['satisIndividual']= datos['satisIndividual'].fillna(method=\"ffill\")"
   ]
  },
  {
   "cell_type": "markdown",
   "metadata": {},
   "source": [
    "Seleccionamos las variables de interés"
   ]
  },
  {
   "cell_type": "code",
   "execution_count": 14,
   "metadata": {},
   "outputs": [],
   "source": [
    "x_train, x_test, y_train, y_test = train_test_split(datos[etiq1], datos['satisIndividual'], random_state=0)"
   ]
  },
  {
   "cell_type": "code",
   "execution_count": 15,
   "metadata": {},
   "outputs": [],
   "source": [
    "scaler = MinMaxScaler().fit(x_train)\n",
    "x_train_scaled = scaler.transform(x_train)\n",
    "x_test_scaled = scaler.transform(x_test)"
   ]
  },
  {
   "cell_type": "markdown",
   "metadata": {},
   "source": [
    "# Modelo ridge"
   ]
  },
  {
   "cell_type": "code",
   "execution_count": 16,
   "metadata": {},
   "outputs": [
    {
     "name": "stdout",
     "output_type": "stream",
     "text": [
      "Training set score: 0.37\n",
      "Test set score: 0.37\n",
      "Training set score: 0.36\n",
      "Test set score: 0.36\n",
      "Training set score: 0.22\n",
      "Test set score: 0.36\n"
     ]
    }
   ],
   "source": [
    "ridge01 = RidgeCV(alphas=[1],cv=5).fit(x_train_scaled, y_train)\n",
    "print(\"Training set score: {:.2f}\".format(ridge01.score(x_train_scaled, y_train)))\n",
    "print(\"Test set score: {:.2f}\".format(ridge01.score(x_test_scaled, y_test)))\n",
    "\n",
    "ridge01 = Ridge(alpha=10).fit(x_train_scaled, y_train)\n",
    "print(\"Training set score: {:.2f}\".format(ridge01.score(x_train_scaled, y_train)))\n",
    "print(\"Test set score: {:.2f}\".format(ridge01.score(x_test_scaled, y_test)))\n",
    "\n",
    "ridge1 = Ridge(alpha=100).fit(x_train_scaled, y_train)\n",
    "print(\"Training set score: {:.2f}\".format(ridge1.score(x_train_scaled, y_train)))\n",
    "print(\"Test set score: {:.2f}\".format(ridge01.score(x_test_scaled, y_test)))\n"
   ]
  },
  {
   "cell_type": "markdown",
   "metadata": {},
   "source": [
    "# SVM"
   ]
  },
  {
   "cell_type": "code",
   "execution_count": 17,
   "metadata": {},
   "outputs": [],
   "source": [
    "a=pd.DataFrame(datos.satisIndividual.quantile([0.25]))\n",
    "x1=datos['satisIndividual']\n",
    "datos['satisIndividual_cat'] = np.where(x1 <=  a.iloc[0,0], \"low\",\"high\")\n",
    "pd.value_counts(datos['satisIndividual_cat'])\n",
    "x_train, x_test, y_train, y_test = train_test_split(datos[etiq1], datos['satisIndividual_cat'], stratify= datos['satisIndividual_cat'],random_state=0)"
   ]
  },
  {
   "cell_type": "code",
   "execution_count": 46,
   "metadata": {},
   "outputs": [
    {
     "name": "stdout",
     "output_type": "stream",
     "text": [
      "Best cross-validation accuracy: 0.78\n",
      "Test set score: 0.758\n",
      "Best parameters: {'svm__C': 100000, 'svm__gamma': 0.0001}\n"
     ]
    }
   ],
   "source": [
    "param_grid = {'svm__C': [100,1000,10000,100000], \n",
    "              'svm__gamma': [0.0001,0.001,0.01,1]}\n",
    "\n",
    "pipe = Pipeline([(\"scaler\", MinMaxScaler()), (\"svm\", SVC())])\n",
    "grid = GridSearchCV(pipe, param_grid=param_grid, cv=5,n_jobs=-1)\n",
    "grid.fit(x_train, y_train)\n",
    "print(\"Best cross-validation accuracy: {:.2f}\".format(grid.best_score_))\n",
    "print(\"Test set score: {:.3f}\".format(grid.score(x_test, y_test)))\n",
    "print(\"Best parameters: {}\".format(grid.best_params_))"
   ]
  },
  {
   "cell_type": "code",
   "execution_count": 47,
   "metadata": {},
   "outputs": [
    {
     "data": {
      "image/png": "[encoded data removed]",
      "text/plain": [
       "<Figure size 640x480 with 1 Axes>"
      ]
     },
     "metadata": {},
     "output_type": "display_data"
    }
   ],
   "source": [
    "results = pd.DataFrame(grid.cv_results_)\n",
    "scores = np.array(results.mean_test_score).reshape(4,4)\n",
    "mglearn.tools.heatmap(scores, \n",
    "                      xlabel='gamma', \n",
    "                      xticklabels=param_grid['svm__gamma'], \n",
    "                      ylabel='C', \n",
    "                      yticklabels=param_grid['svm__C'], \n",
    "                      cmap=\"viridis\");"
   ]
  },
  {
   "cell_type": "code",
   "execution_count": 48,
   "metadata": {},
   "outputs": [
    {
     "name": "stdout",
     "output_type": "stream",
     "text": [
      "              precision    recall  f1-score   support\n",
      "\n",
      "        high       0.77      0.96      0.85       159\n",
      "         low       0.61      0.20      0.30        56\n",
      "\n",
      "    accuracy                           0.76       215\n",
      "   macro avg       0.69      0.58      0.58       215\n",
      "weighted avg       0.73      0.76      0.71       215\n",
      "\n"
     ]
    }
   ],
   "source": [
    "pred=grid.predict(x_test)\n",
    "print(classification_report(y_test, pred))"
   ]
  },
  {
   "cell_type": "markdown",
   "metadata": {},
   "source": [
    "# Random Forest"
   ]
  },
  {
   "cell_type": "code",
   "execution_count": 49,
   "metadata": {},
   "outputs": [
    {
     "name": "stdout",
     "output_type": "stream",
     "text": [
      "Best cross-validation accuracy: 0.78\n",
      "Test set score: 0.777\n",
      "Best parameters: {'rf__max_features': 6, 'rf__n_estimators': 100}\n"
     ]
    }
   ],
   "source": [
    "param_grid = {'rf__n_estimators':[100,150], \n",
    "              'rf__max_features': [4,5,6]}\n",
    "\n",
    "pipe = Pipeline([(\"scaler\", MinMaxScaler()), (\"rf\", RandomForestClassifier(random_state=0))])\n",
    "grid = GridSearchCV(pipe, param_grid=param_grid, cv=5,n_jobs=-1)\n",
    "grid.fit(x_train, y_train)\n",
    "print(\"Best cross-validation accuracy: {:.2f}\".format(grid.best_score_))\n",
    "print(\"Test set score: {:.3f}\".format(grid.score(x_test, y_test)))\n",
    "print(\"Best parameters: {}\".format(grid.best_params_))"
   ]
  },
  {
   "cell_type": "code",
   "execution_count": 50,
   "metadata": {},
   "outputs": [
    {
     "name": "stdout",
     "output_type": "stream",
     "text": [
      "              precision    recall  f1-score   support\n",
      "\n",
      "        high       0.81      0.92      0.86       159\n",
      "         low       0.62      0.38      0.47        56\n",
      "\n",
      "    accuracy                           0.78       215\n",
      "   macro avg       0.71      0.65      0.66       215\n",
      "weighted avg       0.76      0.78      0.76       215\n",
      "\n"
     ]
    }
   ],
   "source": [
    "pred=grid.predict(x_test)\n",
    "print(classification_report(y_test, pred))"
   ]
  },
  {
   "cell_type": "markdown",
   "metadata": {},
   "source": [
    "# Logística"
   ]
  },
  {
   "cell_type": "code",
   "execution_count": 51,
   "metadata": {},
   "outputs": [
    {
     "name": "stdout",
     "output_type": "stream",
     "text": [
      "Best cross-validation accuracy: 0.78\n",
      "Test set score: 0.753\n",
      "Best parameters: {'logisticregression__C': 10}\n"
     ]
    }
   ],
   "source": [
    "param_grid={'logisticregression__C': [0.1, 1, 10, 100]}\n",
    "\n",
    "pipe = Pipeline([(\"scaler\", MinMaxScaler()), (\"logisticregression\", LogisticRegression())])\n",
    "grid = GridSearchCV(pipe, param_grid=param_grid, cv=5, n_jobs = -1)\n",
    "grid.fit(x_train, y_train)\n",
    "print(\"Best cross-validation accuracy: {:.2f}\".format(grid.best_score_))\n",
    "print(\"Test set score: {:.3f}\".format(grid.score(x_test, y_test)))\n",
    "print(\"Best parameters: {}\".format(grid.best_params_))"
   ]
  },
  {
   "cell_type": "code",
   "execution_count": 52,
   "metadata": {},
   "outputs": [
    {
     "name": "stdout",
     "output_type": "stream",
     "text": [
      "              precision    recall  f1-score   support\n",
      "\n",
      "        high       0.78      0.94      0.85       159\n",
      "         low       0.57      0.23      0.33        56\n",
      "\n",
      "    accuracy                           0.75       215\n",
      "   macro avg       0.67      0.58      0.59       215\n",
      "weighted avg       0.72      0.75      0.71       215\n",
      "\n"
     ]
    }
   ],
   "source": [
    "pred=grid.predict(x_test)\n",
    "print(classification_report(y_test, pred))"
   ]
  },
  {
   "cell_type": "markdown",
   "metadata": {},
   "source": [
    "# Gradient boosting"
   ]
  },
  {
   "cell_type": "code",
   "execution_count": 53,
   "metadata": {},
   "outputs": [],
   "source": [
    "a=pd.DataFrame(datos.satisIndividual.quantile([0.25]))\n",
    "x1=datos['satisIndividual']\n",
    "datos['satisIndividual_cat2'] = np.where(x1 <=  a.iloc[0,0], 0, 1)\n",
    "pd.value_counts(datos['satisIndividual_cat2'])\n",
    "x_train, x_test, y_train, y_test = train_test_split(datos[etiq1], datos['satisIndividual_cat2'], stratify= datos['satisIndividual_cat2'],random_state=0)\n",
    "scaler = MinMaxScaler().fit(x_train)"
   ]
  },
  {
   "cell_type": "code",
   "execution_count": 54,
   "metadata": {},
   "outputs": [
    {
     "name": "stdout",
     "output_type": "stream",
     "text": [
      "Best cross-validation accuracy: 0.78\n",
      "Test set score: 0.726\n",
      "Best parameters: {'Gradient_boosting__eta': 0.0001, 'Gradient_boosting__gamma': 10, 'Gradient_boosting__learning_rate': 0.1, 'Gradient_boosting__n_estimators': 1}\n"
     ]
    }
   ],
   "source": [
    "param_grid = {'Gradient_boosting__n_estimators': [1,5,10],\n",
    "              'Gradient_boosting__gamma' : [1, 10, 100],\n",
    "              'Gradient_boosting__eta' : [0.0001,0.001,0.01, 0.1],\n",
    "              'Gradient_boosting__learning_rate' : [0.1,1,10]}\n",
    "\n",
    "pipe = Pipeline([(\"scaler\", MinMaxScaler()),(\"Gradient_boosting\", xgb.XGBClassifier(objective=\"binary:logistic\",\n",
    " booster='gbtree',eval_metric=\"auc\",seed=0))])\n",
    "\n",
    "grid = GridSearchCV(pipe, param_grid=param_grid, cv=5, n_jobs = -1)\n",
    "grid.fit(x_train, y_train)\n",
    "print(\"Best cross-validation accuracy: {:.2f}\".format(grid.best_score_))\n",
    "print(\"Test set score: {:.3f}\".format(grid.score(x_test, y_test)))\n",
    "print(\"Best parameters: {}\".format(grid.best_params_))"
   ]
  },
  {
   "cell_type": "code",
   "execution_count": 55,
   "metadata": {},
   "outputs": [
    {
     "name": "stdout",
     "output_type": "stream",
     "text": [
      "              precision    recall  f1-score   support\n",
      "\n",
      "           0       0.46      0.32      0.38        56\n",
      "           1       0.78      0.87      0.82       159\n",
      "\n",
      "    accuracy                           0.73       215\n",
      "   macro avg       0.62      0.59      0.60       215\n",
      "weighted avg       0.70      0.73      0.71       215\n",
      "\n"
     ]
    }
   ],
   "source": [
    "pred=grid.predict(x_test)\n",
    "print(classification_report(y_test, pred))"
   ]
  },
  {
   "cell_type": "markdown",
   "metadata": {},
   "source": [
    "# Analisis de importancia"
   ]
  },
  {
   "cell_type": "code",
   "execution_count": 18,
   "metadata": {},
   "outputs": [
    {
     "name": "stdout",
     "output_type": "stream",
     "text": [
      "Best cross-validation accuracy: 0.78\n",
      "Test set score: 0.777\n",
      "Best parameters: {'rf__max_features': 6, 'rf__n_estimators': 100}\n"
     ]
    }
   ],
   "source": [
    "x_train, x_test, y_train, y_test = train_test_split(datos[etiq1], datos['satisIndividual_cat'], stratify= datos['satisIndividual_cat'],random_state=0)\n",
    "param_grid = {'rf__n_estimators':[100,150], \n",
    "              'rf__max_features': [4,5,6]}\n",
    "\n",
    "pipe = Pipeline([(\"scaler\", MinMaxScaler()), (\"rf\", RandomForestClassifier(random_state=0))])\n",
    "grid = GridSearchCV(pipe, param_grid=param_grid, cv=5,n_jobs=-1)\n",
    "grid.fit(x_train, y_train)\n",
    "print(\"Best cross-validation accuracy: {:.2f}\".format(grid.best_score_))\n",
    "print(\"Test set score: {:.3f}\".format(grid.score(x_test, y_test)))\n",
    "print(\"Best parameters: {}\".format(grid.best_params_))"
   ]
  },
  {
   "cell_type": "code",
   "execution_count": 55,
   "metadata": {},
   "outputs": [
    {
     "data": {
      "text/plain": [
       "<AxesSubplot: xlabel='x', ylabel='y'>"
      ]
     },
     "execution_count": 55,
     "metadata": {},
     "output_type": "execute_result"
    },
    {
     "data": {
      "image/png": "[encoded data removed]",
      "text/plain": [
       "<Figure size 640x480 with 1 Axes>"
      ]
     },
     "metadata": {},
     "output_type": "display_data"
    }
   ],
   "source": [
    "features=grid.best_estimator_.named_steps.rf.feature_importances_\n",
    "df={'x':features,'y':datos[etiq1].columns}\n",
    "df=pd.DataFrame(df)\n",
    "sns.barplot(data=df, x=\"x\", y=\"y\")"
   ]
  }
 ],
 "metadata": {
  "kernelspec": {
   "display_name": "Python 3.10.8 64-bit",
   "language": "python",
   "name": "python3"
  },
  "language_info": {
   "codemirror_mode": {
    "name": "ipython",
    "version": 3
   },
   "file_extension": ".py",
   "mimetype": "text/x-python",
   "name": "python",
   "nbconvert_exporter": "python",
   "pygments_lexer": "ipython3",
   "version": "3.10.8"
  },
  "orig_nbformat": 4,
  "vscode": {
   "interpreter": {
    "hash": "df95319d8ce4e1d89f5365ae10992bc1f65da593082b1d264e8f529830ec2f02"
   }
  }
 },
 "nbformat": 4,
 "nbformat_minor": 2
}
