{
 "cells": [
  {
   "cell_type": "markdown",
   "metadata": {},
   "source": [
    "# Analisis sexualidad"
   ]
  },
  {
   "cell_type": "markdown",
   "metadata": {},
   "source": [
    "Importamos los recursos"
   ]
  },
  {
   "cell_type": "code",
   "execution_count": 134,
   "metadata": {},
   "outputs": [],
   "source": [
    "import pandas as pd\n",
    "import numpy as np\n",
    "import sidetable\n",
    "from sklearn.model_selection import train_test_split\n",
    "from sklearn.model_selection import cross_val_score\n",
    "from sklearn.preprocessing import MinMaxScaler\n",
    "#import mglearn\n",
    "from sklearn.linear_model import Ridge\n",
    "from sklearn.linear_model import RidgeCV\n",
    "from sklearn.svm import SVC\n",
    "from sklearn.ensemble import RandomForestClassifier\n",
    "from sklearn.linear_model import LogisticRegression\n",
    "import xgboost as xgb\n",
    "from sklearn.ensemble import GradientBoostingClassifier\n",
    "from sklearn.neural_network import MLPClassifier\n",
    "from sklearn.model_selection import GridSearchCV\n",
    "from sklearn.pipeline import Pipeline\n",
    "from sklearn.metrics import confusion_matrix\n",
    "import matplotlib.pyplot as plt\n",
    "from sklearn.metrics import classification_report\n",
    "import seaborn as sns\n",
    "from sklearn.inspection import permutation_importance\n",
    "from sklearn.metrics import roc_auc_score\n",
    "#import random"
   ]
  },
  {
   "cell_type": "code",
   "execution_count": 135,
   "metadata": {},
   "outputs": [],
   "source": [
    "def mi_metric(conf_mat):\n",
    "    sensibilidad = conf_mat[1, 1] / (conf_mat[1, 1] + conf_mat[1, 0])\n",
    "    especificidad = conf_mat[0, 0] / (conf_mat[0, 0] + conf_mat[0, 1])\n",
    "    return sensibilidad, especificidad\n",
    "\n",
    "def plot_confu(cm):\n",
    "    # Define las etiquetas de las clases\n",
    "    classes = ['Clase 0', 'Clase 1']\n",
    "\n",
    "    # Grafica la matriz de confusión\n",
    "    plt.imshow(cm, cmap=plt.cm.Blues)\n",
    "    plt.title('Matriz de Confusión')\n",
    "    plt.colorbar()\n",
    "    tick_marks = np.arange(len(classes))\n",
    "    plt.xticks(tick_marks, classes, rotation=45)\n",
    "    plt.yticks(tick_marks, classes)\n",
    "\n",
    "    # Agrega los valores de la matriz en cada celda\n",
    "    thresh = cm.max() / 2.\n",
    "    for i, j in np.ndindex(cm.shape):\n",
    "        plt.text(j, i, format(cm[i, j], 'd'),\n",
    "                 horizontalalignment=\"center\",\n",
    "                 color=\"white\" if cm[i, j] > thresh else \"black\")\n",
    "\n",
    "    # Agrega etiquetas a los ejes\n",
    "    plt.xlabel('Predicción')\n",
    "    plt.ylabel('Valor Real')\n",
    "    plt.tight_layout()\n",
    "    plt.show()"
   ]
  },
  {
   "cell_type": "markdown",
   "metadata": {},
   "source": [
    "Importamos los datos"
   ]
  },
  {
   "cell_type": "code",
   "execution_count": 136,
   "metadata": {},
   "outputs": [
    {
     "data": {
      "text/html": [
       "<div>\n",
       "<style scoped>\n",
       "    .dataframe tbody tr th:only-of-type {\n",
       "        vertical-align: middle;\n",
       "    }\n",
       "\n",
       "    .dataframe tbody tr th {\n",
       "        vertical-align: top;\n",
       "    }\n",
       "\n",
       "    .dataframe thead th {\n",
       "        text-align: right;\n",
       "    }\n",
       "</style>\n",
       "<table border=\"1\" class=\"dataframe\">\n",
       "  <thead>\n",
       "    <tr style=\"text-align: right;\">\n",
       "      <th></th>\n",
       "      <th>Unnamed: 0</th>\n",
       "      <th>p1</th>\n",
       "      <th>p2</th>\n",
       "      <th>p3</th>\n",
       "      <th>p4</th>\n",
       "      <th>p5</th>\n",
       "      <th>p6</th>\n",
       "      <th>p7</th>\n",
       "      <th>p8</th>\n",
       "      <th>p9</th>\n",
       "      <th>...</th>\n",
       "      <th>redes_emocion</th>\n",
       "      <th>redes_rutina</th>\n",
       "      <th>extraversion</th>\n",
       "      <th>amabilidad</th>\n",
       "      <th>escrupulo</th>\n",
       "      <th>afect_nega</th>\n",
       "      <th>apertura</th>\n",
       "      <th>maquiavel</th>\n",
       "      <th>narcisis</th>\n",
       "      <th>psicopa</th>\n",
       "    </tr>\n",
       "  </thead>\n",
       "  <tbody>\n",
       "    <tr>\n",
       "      <th>0</th>\n",
       "      <td>1</td>\n",
       "      <td>53959060</td>\n",
       "      <td>Completed</td>\n",
       "      <td>179.15.124.18</td>\n",
       "      <td>2021-08-26 13:48:54</td>\n",
       "      <td>False</td>\n",
       "      <td>849</td>\n",
       "      <td>1</td>\n",
       "      <td>CO</td>\n",
       "      <td>ANT</td>\n",
       "      <td>...</td>\n",
       "      <td>35.106383</td>\n",
       "      <td>60.188968</td>\n",
       "      <td>58.333333</td>\n",
       "      <td>83.333333</td>\n",
       "      <td>83.333333</td>\n",
       "      <td>41.666667</td>\n",
       "      <td>66.666667</td>\n",
       "      <td>36.111111</td>\n",
       "      <td>55.555556</td>\n",
       "      <td>2.777778</td>\n",
       "    </tr>\n",
       "    <tr>\n",
       "      <th>1</th>\n",
       "      <td>2</td>\n",
       "      <td>53959737</td>\n",
       "      <td>Completed</td>\n",
       "      <td>191.95.16.235</td>\n",
       "      <td>2021-08-26 14:30:42</td>\n",
       "      <td>False</td>\n",
       "      <td>871</td>\n",
       "      <td>1</td>\n",
       "      <td>CO</td>\n",
       "      <td>ATL</td>\n",
       "      <td>...</td>\n",
       "      <td>25.000000</td>\n",
       "      <td>35.924504</td>\n",
       "      <td>58.333333</td>\n",
       "      <td>75.000000</td>\n",
       "      <td>75.000000</td>\n",
       "      <td>41.666667</td>\n",
       "      <td>75.000000</td>\n",
       "      <td>36.111111</td>\n",
       "      <td>44.444444</td>\n",
       "      <td>25.000000</td>\n",
       "    </tr>\n",
       "    <tr>\n",
       "      <th>2</th>\n",
       "      <td>3</td>\n",
       "      <td>53960505</td>\n",
       "      <td>Completed</td>\n",
       "      <td>186.169.203.213</td>\n",
       "      <td>2021-08-26 15:17:42</td>\n",
       "      <td>False</td>\n",
       "      <td>1488</td>\n",
       "      <td>1</td>\n",
       "      <td>CO</td>\n",
       "      <td>ATL</td>\n",
       "      <td>...</td>\n",
       "      <td>70.512291</td>\n",
       "      <td>75.000000</td>\n",
       "      <td>58.333333</td>\n",
       "      <td>50.000000</td>\n",
       "      <td>66.666667</td>\n",
       "      <td>33.333333</td>\n",
       "      <td>66.666667</td>\n",
       "      <td>44.444444</td>\n",
       "      <td>61.111111</td>\n",
       "      <td>16.666667</td>\n",
       "    </tr>\n",
       "    <tr>\n",
       "      <th>3</th>\n",
       "      <td>4</td>\n",
       "      <td>53988796</td>\n",
       "      <td>Completed</td>\n",
       "      <td>179.13.234.31</td>\n",
       "      <td>2021-08-29 20:40:08</td>\n",
       "      <td>False</td>\n",
       "      <td>1312</td>\n",
       "      <td>1</td>\n",
       "      <td>CO</td>\n",
       "      <td>SUC</td>\n",
       "      <td>...</td>\n",
       "      <td>40.864887</td>\n",
       "      <td>86.492322</td>\n",
       "      <td>75.000000</td>\n",
       "      <td>75.000000</td>\n",
       "      <td>50.000000</td>\n",
       "      <td>41.666667</td>\n",
       "      <td>66.666667</td>\n",
       "      <td>41.666667</td>\n",
       "      <td>52.777778</td>\n",
       "      <td>16.666667</td>\n",
       "    </tr>\n",
       "    <tr>\n",
       "      <th>4</th>\n",
       "      <td>5</td>\n",
       "      <td>54032323</td>\n",
       "      <td>Completed</td>\n",
       "      <td>190.143.54.144</td>\n",
       "      <td>2021-09-01 06:31:17</td>\n",
       "      <td>False</td>\n",
       "      <td>727</td>\n",
       "      <td>1</td>\n",
       "      <td>CO</td>\n",
       "      <td>ATL</td>\n",
       "      <td>...</td>\n",
       "      <td>0.000000</td>\n",
       "      <td>69.537748</td>\n",
       "      <td>66.666667</td>\n",
       "      <td>66.666667</td>\n",
       "      <td>83.333333</td>\n",
       "      <td>50.000000</td>\n",
       "      <td>91.666667</td>\n",
       "      <td>38.888889</td>\n",
       "      <td>72.222222</td>\n",
       "      <td>30.555556</td>\n",
       "    </tr>\n",
       "  </tbody>\n",
       "</table>\n",
       "<p>5 rows × 179 columns</p>\n",
       "</div>"
      ],
      "text/plain": [
       "   Unnamed: 0        p1         p2               p3                   p4  \\\n",
       "0           1  53959060  Completed    179.15.124.18  2021-08-26 13:48:54   \n",
       "1           2  53959737  Completed    191.95.16.235  2021-08-26 14:30:42   \n",
       "2           3  53960505  Completed  186.169.203.213  2021-08-26 15:17:42   \n",
       "3           4  53988796  Completed    179.13.234.31  2021-08-29 20:40:08   \n",
       "4           5  54032323  Completed   190.143.54.144  2021-09-01 06:31:17   \n",
       "\n",
       "      p5    p6  p7  p8   p9  ...  redes_emocion  redes_rutina  extraversion  \\\n",
       "0  False   849   1  CO  ANT  ...      35.106383     60.188968     58.333333   \n",
       "1  False   871   1  CO  ATL  ...      25.000000     35.924504     58.333333   \n",
       "2  False  1488   1  CO  ATL  ...      70.512291     75.000000     58.333333   \n",
       "3  False  1312   1  CO  SUC  ...      40.864887     86.492322     75.000000   \n",
       "4  False   727   1  CO  ATL  ...       0.000000     69.537748     66.666667   \n",
       "\n",
       "   amabilidad  escrupulo  afect_nega   apertura  maquiavel   narcisis  \\\n",
       "0   83.333333  83.333333   41.666667  66.666667  36.111111  55.555556   \n",
       "1   75.000000  75.000000   41.666667  75.000000  36.111111  44.444444   \n",
       "2   50.000000  66.666667   33.333333  66.666667  44.444444  61.111111   \n",
       "3   75.000000  50.000000   41.666667  66.666667  41.666667  52.777778   \n",
       "4   66.666667  83.333333   50.000000  91.666667  38.888889  72.222222   \n",
       "\n",
       "     psicopa  \n",
       "0   2.777778  \n",
       "1  25.000000  \n",
       "2  16.666667  \n",
       "3  16.666667  \n",
       "4  30.555556  \n",
       "\n",
       "[5 rows x 179 columns]"
      ]
     },
     "execution_count": 136,
     "metadata": {},
     "output_type": "execute_result"
    }
   ],
   "source": [
    "datos = pd.read_csv('datosCalificados.csv',delimiter=\";\",decimal=',')\n",
    "datos.head(5)"
   ]
  },
  {
   "cell_type": "code",
   "execution_count": 137,
   "metadata": {},
   "outputs": [],
   "source": [
    "#datos['p126']= datos['p126'].astype(\"category\")\n",
    "#datos['compromiso'] = np.where(datos['p126'] <=  2, 1,0)\n",
    "\n",
    "datos['marital1']=np.where(datos['p126'] ==  1, 1,0)\n",
    "datos['marital2']=np.where(datos['p126'] ==  2, 1,0)\n",
    "datos['marital3']=np.where(datos['p126'] ==  3, 1,0)\n",
    "datos['marital4']=np.where(datos['p126'] ==  4, 1,0)\n",
    "datos['marital5']=np.where(datos['p126'] ==  5, 1,0)\n"
   ]
  },
  {
   "cell_type": "code",
   "execution_count": 138,
   "metadata": {},
   "outputs": [
    {
     "data": {
      "text/plain": [
       "array(['Unnamed: 0', 'p1', 'p2', 'p3', 'p4', 'p5', 'p6', 'p7', 'p8', 'p9',\n",
       "       'p10', 'p11', 'p12', 'p13', 'p14', 'p15', 'p16', 'p17', 'p18',\n",
       "       'p19', 'p20', 'p21', 'p22', 'p23', 'p24', 'p25', 'p26', 'p27',\n",
       "       'p28', 'p29', 'p30', 'p31', 'p32', 'p33', 'p34', 'p35', 'p36',\n",
       "       'p37', 'p38', 'p39', 'p40', 'p41', 'p42', 'p43', 'p44', 'p45',\n",
       "       'p46', 'p47', 'p48', 'p49', 'p50', 'p51', 'p52', 'p53', 'p54',\n",
       "       'p55', 'p56', 'p57', 'p58', 'p59', 'p60', 'p61', 'p62', 'p63',\n",
       "       'p64', 'p65', 'p66', 'p67', 'p68', 'p69', 'p70', 'p71', 'p72',\n",
       "       'p73', 'p74', 'p75', 'p76', 'p77', 'p78', 'p79', 'p80', 'p81',\n",
       "       'p82', 'p83', 'p84', 'p85', 'p86', 'p87', 'p88', 'p89', 'p90',\n",
       "       'p91', 'p92', 'p93', 'p94', 'p95', 'p96', 'p97', 'p98', 'p99',\n",
       "       'p100', 'p101', 'p102', 'p103', 'p104', 'p105', 'p106', 'p107',\n",
       "       'p108', 'p109', 'p110', 'p111', 'p112', 'p113', 'p114', 'p115',\n",
       "       'p116', 'p117', 'p118', 'p119', 'p120', 'p121', 'p122', 'p123',\n",
       "       'p124', 'p125', 'p126', 'p127', 'p128', 'p129', 'p130', 'p131',\n",
       "       'p132', 'p133', 'p134', 'p135', 'p136', 'p137', 'p138', 'p139',\n",
       "       'p140', 'p141', 'p142', 'p143', 'p144', 'p145', 'p146', 'p147',\n",
       "       'p148', 'p149', 'p150', 'edadGrupo', 'maritalGrupo',\n",
       "       'sociosexualidadGeneral', 'conducta', 'actitud', 'deseo',\n",
       "       'autoeficaciaOnline', 'autoeficaciaOffline', 'conflictosFacebook',\n",
       "       'ImpulsoPropio', 'ImpulsoPareja', 'Impulsoradio', 'ImpulsoAPG',\n",
       "       'prevencion', 'promocion', 'satisIndividual', 'satisInterpersonal',\n",
       "       'funcionSexual', 'redes_emocion', 'redes_rutina', 'extraversion',\n",
       "       'amabilidad', 'escrupulo', 'afect_nega', 'apertura', 'maquiavel',\n",
       "       'narcisis', 'psicopa', 'marital1', 'marital2', 'marital3',\n",
       "       'marital4', 'marital5'], dtype=object)"
      ]
     },
     "execution_count": 138,
     "metadata": {},
     "output_type": "execute_result"
    }
   ],
   "source": [
    "datos.columns.values"
   ]
  },
  {
   "cell_type": "markdown",
   "metadata": {},
   "source": [
    "Frecuencias para estatus marital y genero"
   ]
  },
  {
   "cell_type": "code",
   "execution_count": 139,
   "metadata": {},
   "outputs": [
    {
     "name": "stderr",
     "output_type": "stream",
     "text": [
      "C:\\Users\\Uninorte\\AppData\\Local\\Temp\\ipykernel_6540\\541428089.py:1: FutureWarning: pandas.value_counts is deprecated and will be removed in a future version. Use pd.Series(obj).value_counts() instead.\n",
      "  pd.value_counts(datos['p126']) # estatus marital\n"
     ]
    },
    {
     "data": {
      "text/plain": [
       "p126\n",
       "2    393\n",
       "5    200\n",
       "3    125\n",
       "1     72\n",
       "4     67\n",
       "Name: count, dtype: int64"
      ]
     },
     "execution_count": 139,
     "metadata": {},
     "output_type": "execute_result"
    }
   ],
   "source": [
    "pd.value_counts(datos['p126']) # estatus marital"
   ]
  },
  {
   "cell_type": "code",
   "execution_count": 140,
   "metadata": {},
   "outputs": [
    {
     "name": "stderr",
     "output_type": "stream",
     "text": [
      "C:\\Users\\Uninorte\\AppData\\Local\\Temp\\ipykernel_6540\\2858894611.py:1: FutureWarning: pandas.value_counts is deprecated and will be removed in a future version. Use pd.Series(obj).value_counts() instead.\n",
      "  pd.value_counts(datos['p142']) # genero\n"
     ]
    },
    {
     "data": {
      "text/plain": [
       "p142\n",
       "Femenino     503\n",
       "Masculino    342\n",
       "Name: count, dtype: int64"
      ]
     },
     "execution_count": 140,
     "metadata": {},
     "output_type": "execute_result"
    }
   ],
   "source": [
    "pd.value_counts(datos['p142']) # genero"
   ]
  },
  {
   "cell_type": "code",
   "execution_count": 141,
   "metadata": {},
   "outputs": [
    {
     "data": {
      "text/html": [
       "<div>\n",
       "<style scoped>\n",
       "    .dataframe tbody tr th:only-of-type {\n",
       "        vertical-align: middle;\n",
       "    }\n",
       "\n",
       "    .dataframe tbody tr th {\n",
       "        vertical-align: top;\n",
       "    }\n",
       "\n",
       "    .dataframe thead th {\n",
       "        text-align: right;\n",
       "    }\n",
       "</style>\n",
       "<table border=\"1\" class=\"dataframe\">\n",
       "  <thead>\n",
       "    <tr style=\"text-align: right;\">\n",
       "      <th></th>\n",
       "      <th>p142</th>\n",
       "      <th>p126</th>\n",
       "      <th>count</th>\n",
       "      <th>percent</th>\n",
       "      <th>cumulative_count</th>\n",
       "      <th>cumulative_percent</th>\n",
       "    </tr>\n",
       "  </thead>\n",
       "  <tbody>\n",
       "    <tr>\n",
       "      <th>0</th>\n",
       "      <td>Femenino</td>\n",
       "      <td>2</td>\n",
       "      <td>243</td>\n",
       "      <td>28.757396</td>\n",
       "      <td>243</td>\n",
       "      <td>28.757396</td>\n",
       "    </tr>\n",
       "    <tr>\n",
       "      <th>1</th>\n",
       "      <td>Masculino</td>\n",
       "      <td>2</td>\n",
       "      <td>146</td>\n",
       "      <td>17.278107</td>\n",
       "      <td>389</td>\n",
       "      <td>46.035503</td>\n",
       "    </tr>\n",
       "    <tr>\n",
       "      <th>2</th>\n",
       "      <td>Femenino</td>\n",
       "      <td>5</td>\n",
       "      <td>112</td>\n",
       "      <td>13.254438</td>\n",
       "      <td>501</td>\n",
       "      <td>59.289941</td>\n",
       "    </tr>\n",
       "    <tr>\n",
       "      <th>3</th>\n",
       "      <td>Masculino</td>\n",
       "      <td>5</td>\n",
       "      <td>85</td>\n",
       "      <td>10.059172</td>\n",
       "      <td>586</td>\n",
       "      <td>69.349112</td>\n",
       "    </tr>\n",
       "    <tr>\n",
       "      <th>4</th>\n",
       "      <td>Femenino</td>\n",
       "      <td>3</td>\n",
       "      <td>66</td>\n",
       "      <td>7.810651</td>\n",
       "      <td>652</td>\n",
       "      <td>77.159763</td>\n",
       "    </tr>\n",
       "    <tr>\n",
       "      <th>5</th>\n",
       "      <td>Masculino</td>\n",
       "      <td>3</td>\n",
       "      <td>55</td>\n",
       "      <td>6.508876</td>\n",
       "      <td>707</td>\n",
       "      <td>83.668639</td>\n",
       "    </tr>\n",
       "    <tr>\n",
       "      <th>6</th>\n",
       "      <td>Femenino</td>\n",
       "      <td>1</td>\n",
       "      <td>50</td>\n",
       "      <td>5.917160</td>\n",
       "      <td>757</td>\n",
       "      <td>89.585799</td>\n",
       "    </tr>\n",
       "    <tr>\n",
       "      <th>7</th>\n",
       "      <td>Masculino</td>\n",
       "      <td>4</td>\n",
       "      <td>34</td>\n",
       "      <td>4.023669</td>\n",
       "      <td>791</td>\n",
       "      <td>93.609467</td>\n",
       "    </tr>\n",
       "    <tr>\n",
       "      <th>8</th>\n",
       "      <td>Femenino</td>\n",
       "      <td>4</td>\n",
       "      <td>32</td>\n",
       "      <td>3.786982</td>\n",
       "      <td>823</td>\n",
       "      <td>97.396450</td>\n",
       "    </tr>\n",
       "    <tr>\n",
       "      <th>9</th>\n",
       "      <td>Masculino</td>\n",
       "      <td>1</td>\n",
       "      <td>22</td>\n",
       "      <td>2.603550</td>\n",
       "      <td>845</td>\n",
       "      <td>100.000000</td>\n",
       "    </tr>\n",
       "  </tbody>\n",
       "</table>\n",
       "</div>"
      ],
      "text/plain": [
       "        p142  p126  count    percent  cumulative_count  cumulative_percent\n",
       "0   Femenino     2    243  28.757396               243           28.757396\n",
       "1  Masculino     2    146  17.278107               389           46.035503\n",
       "2   Femenino     5    112  13.254438               501           59.289941\n",
       "3  Masculino     5     85  10.059172               586           69.349112\n",
       "4   Femenino     3     66   7.810651               652           77.159763\n",
       "5  Masculino     3     55   6.508876               707           83.668639\n",
       "6   Femenino     1     50   5.917160               757           89.585799\n",
       "7  Masculino     4     34   4.023669               791           93.609467\n",
       "8   Femenino     4     32   3.786982               823           97.396450\n",
       "9  Masculino     1     22   2.603550               845          100.000000"
      ]
     },
     "execution_count": 141,
     "metadata": {},
     "output_type": "execute_result"
    }
   ],
   "source": [
    "datos.stb.freq(['p142','p126'])"
   ]
  },
  {
   "attachments": {},
   "cell_type": "markdown",
   "metadata": {},
   "source": [
    "Contamos valores perdidos en equis y ye"
   ]
  },
  {
   "cell_type": "code",
   "execution_count": 142,
   "metadata": {},
   "outputs": [
    {
     "data": {
      "text/plain": [
       "0     830\n",
       "1      14\n",
       "2      11\n",
       "10      1\n",
       "3       1\n",
       "Name: count, dtype: int64"
      ]
     },
     "execution_count": 142,
     "metadata": {},
     "output_type": "execute_result"
    }
   ],
   "source": [
    "etiq1=['conducta', 'actitud', 'deseo','ImpulsoPropio','funcionSexual','extraversion',\n",
    "       'amabilidad','escrupulo','afect_nega','apertura','maquiavel','narcisis','psicopa',\n",
    "       'marital1','marital2','marital3','marital4','marital5','p142','satisIndividual']\n",
    "datos[etiq1].isnull().transpose().sum().value_counts()\n",
    "#pd.value_counts(a)"
   ]
  },
  {
   "attachments": {},
   "cell_type": "markdown",
   "metadata": {},
   "source": [
    "Procedemos a eliminar las obervaciones incompletas"
   ]
  },
  {
   "cell_type": "code",
   "execution_count": 143,
   "metadata": {},
   "outputs": [
    {
     "data": {
      "text/html": [
       "<div>\n",
       "<style scoped>\n",
       "    .dataframe tbody tr th:only-of-type {\n",
       "        vertical-align: middle;\n",
       "    }\n",
       "\n",
       "    .dataframe tbody tr th {\n",
       "        vertical-align: top;\n",
       "    }\n",
       "\n",
       "    .dataframe thead th {\n",
       "        text-align: right;\n",
       "    }\n",
       "</style>\n",
       "<table border=\"1\" class=\"dataframe\">\n",
       "  <thead>\n",
       "    <tr style=\"text-align: right;\">\n",
       "      <th></th>\n",
       "      <th>conducta</th>\n",
       "      <th>actitud</th>\n",
       "      <th>deseo</th>\n",
       "      <th>ImpulsoPropio</th>\n",
       "      <th>funcionSexual</th>\n",
       "      <th>extraversion</th>\n",
       "      <th>amabilidad</th>\n",
       "      <th>escrupulo</th>\n",
       "      <th>afect_nega</th>\n",
       "      <th>apertura</th>\n",
       "      <th>maquiavel</th>\n",
       "      <th>narcisis</th>\n",
       "      <th>psicopa</th>\n",
       "      <th>marital1</th>\n",
       "      <th>marital2</th>\n",
       "      <th>marital3</th>\n",
       "      <th>marital4</th>\n",
       "      <th>marital5</th>\n",
       "      <th>p142</th>\n",
       "      <th>satisIndividual</th>\n",
       "    </tr>\n",
       "  </thead>\n",
       "  <tbody>\n",
       "    <tr>\n",
       "      <th>0</th>\n",
       "      <td>33.365759</td>\n",
       "      <td>15.744681</td>\n",
       "      <td>25.000000</td>\n",
       "      <td>33.333333</td>\n",
       "      <td>75.000000</td>\n",
       "      <td>58.333333</td>\n",
       "      <td>83.333333</td>\n",
       "      <td>83.333333</td>\n",
       "      <td>41.666667</td>\n",
       "      <td>66.666667</td>\n",
       "      <td>36.111111</td>\n",
       "      <td>55.555556</td>\n",
       "      <td>2.777778</td>\n",
       "      <td>0</td>\n",
       "      <td>1</td>\n",
       "      <td>0</td>\n",
       "      <td>0</td>\n",
       "      <td>0</td>\n",
       "      <td>Femenino</td>\n",
       "      <td>75.000000</td>\n",
       "    </tr>\n",
       "    <tr>\n",
       "      <th>1</th>\n",
       "      <td>16.731518</td>\n",
       "      <td>25.000000</td>\n",
       "      <td>0.000000</td>\n",
       "      <td>38.888889</td>\n",
       "      <td>50.000000</td>\n",
       "      <td>58.333333</td>\n",
       "      <td>75.000000</td>\n",
       "      <td>75.000000</td>\n",
       "      <td>41.666667</td>\n",
       "      <td>75.000000</td>\n",
       "      <td>36.111111</td>\n",
       "      <td>44.444444</td>\n",
       "      <td>25.000000</td>\n",
       "      <td>1</td>\n",
       "      <td>0</td>\n",
       "      <td>0</td>\n",
       "      <td>0</td>\n",
       "      <td>0</td>\n",
       "      <td>Masculino</td>\n",
       "      <td>70.541480</td>\n",
       "    </tr>\n",
       "    <tr>\n",
       "      <th>2</th>\n",
       "      <td>92.120623</td>\n",
       "      <td>75.000000</td>\n",
       "      <td>59.426230</td>\n",
       "      <td>55.555556</td>\n",
       "      <td>50.000000</td>\n",
       "      <td>58.333333</td>\n",
       "      <td>50.000000</td>\n",
       "      <td>66.666667</td>\n",
       "      <td>33.333333</td>\n",
       "      <td>66.666667</td>\n",
       "      <td>44.444444</td>\n",
       "      <td>61.111111</td>\n",
       "      <td>16.666667</td>\n",
       "      <td>0</td>\n",
       "      <td>0</td>\n",
       "      <td>1</td>\n",
       "      <td>0</td>\n",
       "      <td>0</td>\n",
       "      <td>Femenino</td>\n",
       "      <td>70.860242</td>\n",
       "    </tr>\n",
       "    <tr>\n",
       "      <th>3</th>\n",
       "      <td>67.120623</td>\n",
       "      <td>81.489362</td>\n",
       "      <td>47.950820</td>\n",
       "      <td>83.333333</td>\n",
       "      <td>79.183400</td>\n",
       "      <td>75.000000</td>\n",
       "      <td>75.000000</td>\n",
       "      <td>50.000000</td>\n",
       "      <td>41.666667</td>\n",
       "      <td>66.666667</td>\n",
       "      <td>41.666667</td>\n",
       "      <td>52.777778</td>\n",
       "      <td>16.666667</td>\n",
       "      <td>0</td>\n",
       "      <td>0</td>\n",
       "      <td>0</td>\n",
       "      <td>1</td>\n",
       "      <td>0</td>\n",
       "      <td>Masculino</td>\n",
       "      <td>87.228846</td>\n",
       "    </tr>\n",
       "    <tr>\n",
       "      <th>4</th>\n",
       "      <td>58.365759</td>\n",
       "      <td>100.000000</td>\n",
       "      <td>33.196721</td>\n",
       "      <td>88.888889</td>\n",
       "      <td>69.164157</td>\n",
       "      <td>66.666667</td>\n",
       "      <td>66.666667</td>\n",
       "      <td>83.333333</td>\n",
       "      <td>50.000000</td>\n",
       "      <td>91.666667</td>\n",
       "      <td>38.888889</td>\n",
       "      <td>72.222222</td>\n",
       "      <td>30.555556</td>\n",
       "      <td>0</td>\n",
       "      <td>1</td>\n",
       "      <td>0</td>\n",
       "      <td>0</td>\n",
       "      <td>0</td>\n",
       "      <td>Masculino</td>\n",
       "      <td>83.233979</td>\n",
       "    </tr>\n",
       "  </tbody>\n",
       "</table>\n",
       "</div>"
      ],
      "text/plain": [
       "    conducta     actitud      deseo  ImpulsoPropio  funcionSexual  \\\n",
       "0  33.365759   15.744681  25.000000      33.333333      75.000000   \n",
       "1  16.731518   25.000000   0.000000      38.888889      50.000000   \n",
       "2  92.120623   75.000000  59.426230      55.555556      50.000000   \n",
       "3  67.120623   81.489362  47.950820      83.333333      79.183400   \n",
       "4  58.365759  100.000000  33.196721      88.888889      69.164157   \n",
       "\n",
       "   extraversion  amabilidad  escrupulo  afect_nega   apertura  maquiavel  \\\n",
       "0     58.333333   83.333333  83.333333   41.666667  66.666667  36.111111   \n",
       "1     58.333333   75.000000  75.000000   41.666667  75.000000  36.111111   \n",
       "2     58.333333   50.000000  66.666667   33.333333  66.666667  44.444444   \n",
       "3     75.000000   75.000000  50.000000   41.666667  66.666667  41.666667   \n",
       "4     66.666667   66.666667  83.333333   50.000000  91.666667  38.888889   \n",
       "\n",
       "    narcisis    psicopa  marital1  marital2  marital3  marital4  marital5  \\\n",
       "0  55.555556   2.777778         0         1         0         0         0   \n",
       "1  44.444444  25.000000         1         0         0         0         0   \n",
       "2  61.111111  16.666667         0         0         1         0         0   \n",
       "3  52.777778  16.666667         0         0         0         1         0   \n",
       "4  72.222222  30.555556         0         1         0         0         0   \n",
       "\n",
       "        p142  satisIndividual  \n",
       "0   Femenino        75.000000  \n",
       "1  Masculino        70.541480  \n",
       "2   Femenino        70.860242  \n",
       "3  Masculino        87.228846  \n",
       "4  Masculino        83.233979  "
      ]
     },
     "execution_count": 143,
     "metadata": {},
     "output_type": "execute_result"
    }
   ],
   "source": [
    "a=datos[etiq1].isnull().transpose().sum()\n",
    "datos=datos[(a==0)]\n",
    "datos=datos[etiq1]\n",
    "datos.head(5)\n"
   ]
  },
  {
   "attachments": {},
   "cell_type": "markdown",
   "metadata": {},
   "source": [
    "Ahora examinamos la distribución de la variable respuesta para la muestra general"
   ]
  },
  {
   "cell_type": "code",
   "execution_count": 144,
   "metadata": {},
   "outputs": [
    {
     "name": "stderr",
     "output_type": "stream",
     "text": [
      "C:\\Users\\Uninorte\\AppData\\Roaming\\Python\\Python311\\site-packages\\seaborn\\_oldcore.py:1498: FutureWarning: is_categorical_dtype is deprecated and will be removed in a future version. Use isinstance(dtype, CategoricalDtype) instead\n",
      "  if pd.api.types.is_categorical_dtype(vector):\n",
      "C:\\Users\\Uninorte\\AppData\\Roaming\\Python\\Python311\\site-packages\\seaborn\\_oldcore.py:1119: FutureWarning: use_inf_as_na option is deprecated and will be removed in a future version. Convert inf values to NaN before operating instead.\n",
      "  with pd.option_context('mode.use_inf_as_na', True):\n"
     ]
    },
    {
     "data": {
      "text/plain": [
       "<Axes: xlabel='satisIndividual', ylabel='Count'>"
      ]
     },
     "execution_count": 144,
     "metadata": {},
     "output_type": "execute_result"
    },
    {
     "data": {
      "image/png": "[encoded data removed]",
      "text/plain": [
       "<Figure size 640x480 with 1 Axes>"
      ]
     },
     "metadata": {},
     "output_type": "display_data"
    }
   ],
   "source": [
    "sns.histplot(data=datos, x=\"satisIndividual\")"
   ]
  },
  {
   "attachments": {},
   "cell_type": "markdown",
   "metadata": {},
   "source": [
    "Ahora examinamos la distribución de la variable respuesta para las mujeres"
   ]
  },
  {
   "cell_type": "code",
   "execution_count": 145,
   "metadata": {},
   "outputs": [
    {
     "name": "stderr",
     "output_type": "stream",
     "text": [
      "C:\\Users\\Uninorte\\AppData\\Roaming\\Python\\Python311\\site-packages\\seaborn\\_oldcore.py:1498: FutureWarning: is_categorical_dtype is deprecated and will be removed in a future version. Use isinstance(dtype, CategoricalDtype) instead\n",
      "  if pd.api.types.is_categorical_dtype(vector):\n",
      "C:\\Users\\Uninorte\\AppData\\Roaming\\Python\\Python311\\site-packages\\seaborn\\_oldcore.py:1119: FutureWarning: use_inf_as_na option is deprecated and will be removed in a future version. Convert inf values to NaN before operating instead.\n",
      "  with pd.option_context('mode.use_inf_as_na', True):\n"
     ]
    },
    {
     "data": {
      "text/plain": [
       "<Axes: xlabel='satisIndividual', ylabel='Count'>"
      ]
     },
     "execution_count": 145,
     "metadata": {},
     "output_type": "execute_result"
    },
    {
     "data": {
      "image/png": "[encoded data removed]",
      "text/plain": [
       "<Figure size 640x480 with 1 Axes>"
      ]
     },
     "metadata": {},
     "output_type": "display_data"
    }
   ],
   "source": [
    "sns.histplot(data=datos[datos['p142']=='Femenino'], x=\"satisIndividual\")"
   ]
  },
  {
   "attachments": {},
   "cell_type": "markdown",
   "metadata": {},
   "source": [
    "Ahora examinamos la distribución de la variable respuesta para los hombres"
   ]
  },
  {
   "cell_type": "code",
   "execution_count": 146,
   "metadata": {},
   "outputs": [
    {
     "name": "stderr",
     "output_type": "stream",
     "text": [
      "C:\\Users\\Uninorte\\AppData\\Roaming\\Python\\Python311\\site-packages\\seaborn\\_oldcore.py:1498: FutureWarning: is_categorical_dtype is deprecated and will be removed in a future version. Use isinstance(dtype, CategoricalDtype) instead\n",
      "  if pd.api.types.is_categorical_dtype(vector):\n",
      "C:\\Users\\Uninorte\\AppData\\Roaming\\Python\\Python311\\site-packages\\seaborn\\_oldcore.py:1119: FutureWarning: use_inf_as_na option is deprecated and will be removed in a future version. Convert inf values to NaN before operating instead.\n",
      "  with pd.option_context('mode.use_inf_as_na', True):\n"
     ]
    },
    {
     "data": {
      "text/plain": [
       "<Axes: xlabel='satisIndividual', ylabel='Count'>"
      ]
     },
     "execution_count": 146,
     "metadata": {},
     "output_type": "execute_result"
    },
    {
     "data": {
      "image/png": "[encoded data removed]",
      "text/plain": [
       "<Figure size 640x480 with 1 Axes>"
      ]
     },
     "metadata": {},
     "output_type": "display_data"
    }
   ],
   "source": [
    "sns.histplot(data=datos[datos['p142']=='Masculino'], x=\"satisIndividual\")"
   ]
  },
  {
   "attachments": {},
   "cell_type": "markdown",
   "metadata": {},
   "source": [
    "Considerando la distribución existente para hombres y mujeres procedemos a dicotomizar la variable usando Q1 para diferenciar a los insatisfechos de los demás. La clasificación se realiza para cada sexo por separado."
   ]
  },
  {
   "attachments": {},
   "cell_type": "markdown",
   "metadata": {},
   "source": [
    "# Mujeres"
   ]
  },
  {
   "cell_type": "code",
   "execution_count": 147,
   "metadata": {},
   "outputs": [],
   "source": [
    "data_mu=datos[datos['p142']=='Femenino']\n",
    "data_mu= data_mu.drop('p142', axis=1)"
   ]
  },
  {
   "attachments": {},
   "cell_type": "markdown",
   "metadata": {},
   "source": [
    "## SVM"
   ]
  },
  {
   "cell_type": "code",
   "execution_count": 148,
   "metadata": {},
   "outputs": [
    {
     "name": "stderr",
     "output_type": "stream",
     "text": [
      "C:\\Users\\Uninorte\\AppData\\Local\\Temp\\ipykernel_6540\\1065160567.py:4: FutureWarning: pandas.value_counts is deprecated and will be removed in a future version. Use pd.Series(obj).value_counts() instead.\n",
      "  pd.value_counts(data_mu['satisIndividual_cat'])\n"
     ]
    }
   ],
   "source": [
    "a=pd.DataFrame(data_mu.satisIndividual.quantile([0.25]))\n",
    "x1=data_mu['satisIndividual']\n",
    "data_mu['satisIndividual_cat'] = np.where(x1 <=  a.iloc[0,0], 1,0)\n",
    "pd.value_counts(data_mu['satisIndividual_cat'])\n",
    "x_train, x_test, y_train, y_test = train_test_split(data_mu.drop(['satisIndividual_cat','satisIndividual'], axis=1), \n",
    "                                                    data_mu['satisIndividual_cat'], stratify= data_mu['satisIndividual_cat'],random_state=0)"
   ]
  },
  {
   "cell_type": "code",
   "execution_count": 149,
   "metadata": {},
   "outputs": [
    {
     "name": "stdout",
     "output_type": "stream",
     "text": [
      "Best cross-validation accuracy: 0.81\n",
      "Test set score: 0.758\n",
      "Best parameters: {'svm__C': 10, 'svm__gamma': 0.1, 'svm__kernel': 'rbf'}\n"
     ]
    }
   ],
   "source": [
    "param_grid = {'svm__C': [1,10,100,1000,10000], \n",
    "              'svm__gamma': [0.0001,0.001,0.01,0.1,1],\n",
    "              'svm__kernel':['linear','rbf','poly']}\n",
    "\n",
    "pipe = Pipeline([(\"scaler\", MinMaxScaler()), (\"svm\", SVC())])\n",
    "grid = GridSearchCV(pipe, param_grid=param_grid, cv=5,n_jobs=-1)\n",
    "grid.fit(x_train, y_train)\n",
    "print(\"Best cross-validation accuracy: {:.2f}\".format(grid.best_score_))\n",
    "print(\"Test set score: {:.3f}\".format(grid.score(x_test, y_test)))\n",
    "print(\"Best parameters: {}\".format(grid.best_params_))"
   ]
  },
  {
   "cell_type": "code",
   "execution_count": 150,
   "metadata": {},
   "outputs": [],
   "source": [
    "#results = pd.DataFrame(grid.cv_results_)\n",
    "#scores = np.array(results.mean_test_score).reshape(3,5)\n",
    "#mglearn.tools.heatmap(scores, \n",
    " #                     xlabel='gamma', \n",
    "  #                    xticklabels=param_grid['svm__gamma'], \n",
    "   #                   ylabel='C', \n",
    "    #                  yticklabels=param_grid['svm__C'], \n",
    "     #                 cmap=\"viridis\");"
   ]
  },
  {
   "cell_type": "code",
   "execution_count": 151,
   "metadata": {},
   "outputs": [
    {
     "name": "stdout",
     "output_type": "stream",
     "text": [
      "              precision    recall  f1-score   support\n",
      "\n",
      "           0       0.78      0.94      0.85        93\n",
      "           1       0.54      0.23      0.32        31\n",
      "\n",
      "    accuracy                           0.76       124\n",
      "   macro avg       0.66      0.58      0.59       124\n",
      "weighted avg       0.72      0.76      0.72       124\n",
      "\n",
      "[[87  6]\n",
      " [24  7]]\n"
     ]
    }
   ],
   "source": [
    "pred=grid.predict(x_test)\n",
    "print(classification_report(y_test, pred))\n",
    "print(confusion_matrix(y_test,pred))"
   ]
  },
  {
   "attachments": {},
   "cell_type": "markdown",
   "metadata": {},
   "source": [
    "Ahora calibramos el modelo para aumentar el recall de la clase 1"
   ]
  },
  {
   "cell_type": "code",
   "execution_count": 152,
   "metadata": {},
   "outputs": [
    {
     "name": "stdout",
     "output_type": "stream",
     "text": [
      "(0.6129032258064516, 0.7741935483870968)\n",
      "(0.7096774193548387, 0.7419354838709677)\n",
      "(0.7419354838709677, 0.6989247311827957)\n"
     ]
    }
   ],
   "source": [
    "for correcion in [-.7,-.8,-.9]:\n",
    "    y_pred_lower_threshold = grid.decision_function(x_test) > correcion\n",
    "    #print(confusion_matrix(y_test, y_pred_lower_threshold))\n",
    "    print(mi_metric(confusion_matrix(y_test,y_pred_lower_threshold)))\n",
    "    \n",
    "    "
   ]
  },
  {
   "cell_type": "code",
   "execution_count": 153,
   "metadata": {},
   "outputs": [
    {
     "data": {
      "image/png": "[encoded data removed]",
      "text/plain": [
       "<Figure size 640x480 with 2 Axes>"
      ]
     },
     "metadata": {},
     "output_type": "display_data"
    }
   ],
   "source": [
    "grid.decision_function(x_test) > -.9\n",
    "plot_confu(confusion_matrix(y_test,y_pred_lower_threshold))"
   ]
  },
  {
   "cell_type": "code",
   "execution_count": 154,
   "metadata": {},
   "outputs": [
    {
     "name": "stdout",
     "output_type": "stream",
     "text": [
      "AUC: 0.802\n"
     ]
    }
   ],
   "source": [
    "auc = roc_auc_score(y_test, grid.decision_function(x_test))\n",
    "print(\"AUC: {:.3f}\".format(auc))"
   ]
  },
  {
   "attachments": {},
   "cell_type": "markdown",
   "metadata": {},
   "source": [
    "## Random Forest"
   ]
  },
  {
   "cell_type": "code",
   "execution_count": 155,
   "metadata": {},
   "outputs": [
    {
     "name": "stdout",
     "output_type": "stream",
     "text": [
      "Best cross-validation accuracy: 0.82\n",
      "Test set score: 0.839\n",
      "Best parameters: {'rf__max_features': 2, 'rf__n_estimators': 30}\n"
     ]
    }
   ],
   "source": [
    "param_grid = {'rf__n_estimators':[5,15,30,50], \n",
    "              'rf__max_features': [1,2,3,4,5]}\n",
    "\n",
    "pipe = Pipeline([(\"scaler\", MinMaxScaler()), (\"rf\", RandomForestClassifier(random_state=0))])\n",
    "grid = GridSearchCV(pipe, param_grid=param_grid, cv=5,n_jobs=-1)\n",
    "grid.fit(x_train, y_train)\n",
    "print(\"Best cross-validation accuracy: {:.2f}\".format(grid.best_score_))\n",
    "print(\"Test set score: {:.3f}\".format(grid.score(x_test, y_test)))\n",
    "print(\"Best parameters: {}\".format(grid.best_params_))"
   ]
  },
  {
   "cell_type": "code",
   "execution_count": 156,
   "metadata": {},
   "outputs": [
    {
     "name": "stdout",
     "output_type": "stream",
     "text": [
      "              precision    recall  f1-score   support\n",
      "\n",
      "           0       0.83      0.99      0.90        93\n",
      "           1       0.92      0.39      0.55        31\n",
      "\n",
      "    accuracy                           0.84       124\n",
      "   macro avg       0.88      0.69      0.72       124\n",
      "weighted avg       0.85      0.84      0.81       124\n",
      "\n"
     ]
    }
   ],
   "source": [
    "pred=grid.predict(x_test)\n",
    "print(classification_report(y_test, pred))"
   ]
  },
  {
   "cell_type": "code",
   "execution_count": 157,
   "metadata": {},
   "outputs": [
    {
     "name": "stdout",
     "output_type": "stream",
     "text": [
      "(0.7741935483870968, 0.6559139784946236)\n",
      "(0.7096774193548387, 0.7634408602150538)\n",
      "(0.6774193548387096, 0.7956989247311828)\n"
     ]
    }
   ],
   "source": [
    "for correcion in [.25,.3,.35]:\n",
    "    y_pred_lower_threshold = grid.predict_proba(x_test)[:,1] > correcion\n",
    "    #print(confusion_matrix(y_test, y_pred_lower_threshold))\n",
    "    print(mi_metric(confusion_matrix(y_test,y_pred_lower_threshold)))\n",
    "    "
   ]
  },
  {
   "cell_type": "code",
   "execution_count": 158,
   "metadata": {},
   "outputs": [
    {
     "data": {
      "image/png": "[encoded data removed]",
      "text/plain": [
       "<Figure size 640x480 with 2 Axes>"
      ]
     },
     "metadata": {},
     "output_type": "display_data"
    }
   ],
   "source": [
    "y_pred_lower_threshold = grid.predict_proba(x_test) > .3\n",
    "plot_confu(confusion_matrix(y_test,y_pred_lower_threshold[:,1]))"
   ]
  },
  {
   "cell_type": "code",
   "execution_count": 159,
   "metadata": {},
   "outputs": [
    {
     "name": "stdout",
     "output_type": "stream",
     "text": [
      "AUC: 0.853\n"
     ]
    }
   ],
   "source": [
    "auc = roc_auc_score(y_test, grid.predict_proba(x_test)[:,1])\n",
    "print(\"AUC: {:.3f}\".format(auc))"
   ]
  },
  {
   "attachments": {},
   "cell_type": "markdown",
   "metadata": {},
   "source": [
    "## Logística"
   ]
  },
  {
   "cell_type": "code",
   "execution_count": 160,
   "metadata": {},
   "outputs": [
    {
     "name": "stdout",
     "output_type": "stream",
     "text": [
      "Best cross-validation accuracy: 0.80\n",
      "Test set score: 0.750\n",
      "Best parameters: {'logisticregression__C': 1}\n"
     ]
    }
   ],
   "source": [
    "param_grid={'logisticregression__C': [0.1, 1, 10, 100]}\n",
    "\n",
    "pipe = Pipeline([(\"scaler\", MinMaxScaler()), (\"logisticregression\", LogisticRegression())])\n",
    "grid = GridSearchCV(pipe, param_grid=param_grid, cv=5, n_jobs = -1)\n",
    "grid.fit(x_train, y_train)\n",
    "print(\"Best cross-validation accuracy: {:.2f}\".format(grid.best_score_))\n",
    "print(\"Test set score: {:.3f}\".format(grid.score(x_test, y_test)))\n",
    "print(\"Best parameters: {}\".format(grid.best_params_))"
   ]
  },
  {
   "cell_type": "code",
   "execution_count": 161,
   "metadata": {},
   "outputs": [
    {
     "name": "stdout",
     "output_type": "stream",
     "text": [
      "              precision    recall  f1-score   support\n",
      "\n",
      "           0       0.78      0.92      0.85        93\n",
      "           1       0.50      0.23      0.31        31\n",
      "\n",
      "    accuracy                           0.75       124\n",
      "   macro avg       0.64      0.58      0.58       124\n",
      "weighted avg       0.71      0.75      0.71       124\n",
      "\n"
     ]
    }
   ],
   "source": [
    "pred=grid.predict(x_test)\n",
    "print(classification_report(y_test, pred))"
   ]
  },
  {
   "cell_type": "code",
   "execution_count": 162,
   "metadata": {},
   "outputs": [
    {
     "name": "stdout",
     "output_type": "stream",
     "text": [
      "(0.6774193548387096, 0.8064516129032258)\n",
      "(0.7096774193548387, 0.7634408602150538)\n",
      "(0.7096774193548387, 0.7419354838709677)\n"
     ]
    }
   ],
   "source": [
    "for correcion in [-.9,-1,-1.1]:\n",
    "    y_pred_lower_threshold = grid.decision_function(x_test) > correcion\n",
    "    #print(classification_report(y_test, y_pred_lower_threshold))\n",
    "    print(mi_metric(confusion_matrix(y_test,y_pred_lower_threshold)))\n"
   ]
  },
  {
   "cell_type": "code",
   "execution_count": 163,
   "metadata": {},
   "outputs": [
    {
     "data": {
      "image/png": "[encoded data removed]",
      "text/plain": [
       "<Figure size 640x480 with 2 Axes>"
      ]
     },
     "metadata": {},
     "output_type": "display_data"
    }
   ],
   "source": [
    "y_pred_lower_threshold = grid.decision_function(x_test) > -1\n",
    "plot_confu(confusion_matrix(y_test,y_pred_lower_threshold))"
   ]
  },
  {
   "cell_type": "code",
   "execution_count": 164,
   "metadata": {},
   "outputs": [
    {
     "name": "stdout",
     "output_type": "stream",
     "text": [
      "AUC: 0.820\n"
     ]
    }
   ],
   "source": [
    "auc = roc_auc_score(y_test, grid.decision_function(x_test))\n",
    "print(\"AUC: {:.3f}\".format(auc))"
   ]
  },
  {
   "attachments": {},
   "cell_type": "markdown",
   "metadata": {},
   "source": [
    "## Gradient boosting"
   ]
  },
  {
   "cell_type": "code",
   "execution_count": 165,
   "metadata": {},
   "outputs": [
    {
     "name": "stdout",
     "output_type": "stream",
     "text": [
      "Best cross-validation accuracy: 0.79\n",
      "Test set score: 0.798\n",
      "Best parameters: {'Gradient_boosting__eta': 1e-05, 'Gradient_boosting__gamma': 10, 'Gradient_boosting__learning_rate': 1, 'Gradient_boosting__n_estimators': 5}\n"
     ]
    },
    {
     "name": "stderr",
     "output_type": "stream",
     "text": [
      "C:\\Users\\Uninorte\\AppData\\Roaming\\Python\\Python311\\site-packages\\xgboost\\data.py:520: FutureWarning: is_sparse is deprecated and will be removed in a future version. Check `isinstance(dtype, pd.SparseDtype)` instead.\n",
      "  if is_sparse(data):\n"
     ]
    }
   ],
   "source": [
    "param_grid = {'Gradient_boosting__n_estimators': [1,5,10],\n",
    "              'Gradient_boosting__gamma' : [0.1,1, 10],\n",
    "              'Gradient_boosting__eta' : [0.00001,0.0001],\n",
    "              'Gradient_boosting__learning_rate' : [0.1,1,10]}\n",
    "\n",
    "pipe = Pipeline([(\"scaler\", MinMaxScaler()),(\"Gradient_boosting\", xgb.XGBClassifier(objective=\"binary:logistic\",\n",
    " booster='gbtree',eval_metric=\"auc\",seed=0))])\n",
    "\n",
    "grid = GridSearchCV(pipe, param_grid=param_grid, cv=5, n_jobs = -1)\n",
    "grid.fit(x_train, y_train)\n",
    "print(\"Best cross-validation accuracy: {:.2f}\".format(grid.best_score_))\n",
    "print(\"Test set score: {:.3f}\".format(grid.score(x_test, y_test)))\n",
    "print(\"Best parameters: {}\".format(grid.best_params_))"
   ]
  },
  {
   "cell_type": "code",
   "execution_count": 166,
   "metadata": {},
   "outputs": [
    {
     "name": "stdout",
     "output_type": "stream",
     "text": [
      "              precision    recall  f1-score   support\n",
      "\n",
      "           0       0.83      0.91      0.87        93\n",
      "           1       0.64      0.45      0.53        31\n",
      "\n",
      "    accuracy                           0.80       124\n",
      "   macro avg       0.73      0.68      0.70       124\n",
      "weighted avg       0.78      0.80      0.79       124\n",
      "\n"
     ]
    }
   ],
   "source": [
    "pred=grid.predict(x_test)\n",
    "print(classification_report(y_test, pred))"
   ]
  },
  {
   "cell_type": "code",
   "execution_count": 167,
   "metadata": {},
   "outputs": [
    {
     "name": "stdout",
     "output_type": "stream",
     "text": [
      "(0.8387096774193549, 0.7634408602150538)\n",
      "(0.8387096774193549, 0.7634408602150538)\n",
      "(0.8387096774193549, 0.7634408602150538)\n",
      "(0.8387096774193549, 0.7634408602150538)\n",
      "(0.8387096774193549, 0.7634408602150538)\n"
     ]
    }
   ],
   "source": [
    "for correcion in [.18,.20,.22,.23,.24]:\n",
    "    y_pred_lower_threshold = grid.predict_proba(x_test)[:,1] > correcion\n",
    "    #print(classification_report(y_test, y_pred_lower_threshold))\n",
    "    print(mi_metric(confusion_matrix(y_test,y_pred_lower_threshold)))"
   ]
  },
  {
   "cell_type": "code",
   "execution_count": 168,
   "metadata": {},
   "outputs": [
    {
     "data": {
      "image/png": "[encoded data removed]",
      "text/plain": [
       "<Figure size 640x480 with 2 Axes>"
      ]
     },
     "metadata": {},
     "output_type": "display_data"
    }
   ],
   "source": [
    "y_pred_lower_threshold = grid.predict_proba(x_test) > .23\n",
    "plot_confu(confusion_matrix(y_test,y_pred_lower_threshold[:,1]))"
   ]
  },
  {
   "cell_type": "code",
   "execution_count": 169,
   "metadata": {},
   "outputs": [
    {
     "name": "stdout",
     "output_type": "stream",
     "text": [
      "AUC: 0.822\n"
     ]
    }
   ],
   "source": [
    "auc = roc_auc_score(y_test, grid.predict_proba(x_test)[:,1])\n",
    "print(\"AUC: {:.3f}\".format(auc))"
   ]
  },
  {
   "cell_type": "markdown",
   "metadata": {},
   "source": [
    "## Clasificador de redes neuronales"
   ]
  },
  {
   "cell_type": "code",
   "execution_count": 170,
   "metadata": {},
   "outputs": [
    {
     "name": "stdout",
     "output_type": "stream",
     "text": [
      "Best cross-validation accuracy: 0.82\n",
      "Test set score: 0.766\n",
      "Best parameters: {'MLPC__hidden_layer_sizes': 40, 'MLPC__learning_rate': 'invscaling', 'MLPC__solver': 'adam'}\n"
     ]
    },
    {
     "name": "stderr",
     "output_type": "stream",
     "text": [
      "C:\\Users\\Uninorte\\AppData\\Roaming\\Python\\Python311\\site-packages\\sklearn\\neural_network\\_multilayer_perceptron.py:691: ConvergenceWarning: Stochastic Optimizer: Maximum iterations (200) reached and the optimization hasn't converged yet.\n",
      "  warnings.warn(\n"
     ]
    }
   ],
   "source": [
    "param_grid = {'MLPC__hidden_layer_sizes': [40,100,200], \n",
    "              'MLPC__solver': ['lbfgs', 'sgd', 'adam'],\n",
    "              'MLPC__learning_rate':['constant', 'invscaling', 'adaptive']}\n",
    "\n",
    "pipe = Pipeline([(\"scaler\", MinMaxScaler()), (\"MLPC\", MLPClassifier())])\n",
    "grid = GridSearchCV(pipe, param_grid=param_grid, cv=5,n_jobs=-1)\n",
    "grid.fit(x_train, y_train)\n",
    "print(\"Best cross-validation accuracy: {:.2f}\".format(grid.best_score_))\n",
    "print(\"Test set score: {:.3f}\".format(grid.score(x_test, y_test)))\n",
    "print(\"Best parameters: {}\".format(grid.best_params_))"
   ]
  },
  {
   "cell_type": "code",
   "execution_count": 171,
   "metadata": {},
   "outputs": [
    {
     "name": "stdout",
     "output_type": "stream",
     "text": [
      "              precision    recall  f1-score   support\n",
      "\n",
      "           0       0.78      0.96      0.86        93\n",
      "           1       0.60      0.19      0.29        31\n",
      "\n",
      "    accuracy                           0.77       124\n",
      "   macro avg       0.69      0.58      0.58       124\n",
      "weighted avg       0.74      0.77      0.72       124\n",
      "\n"
     ]
    }
   ],
   "source": [
    "pred=grid.predict(x_test)\n",
    "print(classification_report(y_test, pred))"
   ]
  },
  {
   "cell_type": "code",
   "execution_count": 172,
   "metadata": {},
   "outputs": [
    {
     "name": "stdout",
     "output_type": "stream",
     "text": [
      "(0.9032258064516129, 0.6451612903225806)\n",
      "(0.8064516129032258, 0.6774193548387096)\n",
      "(0.7741935483870968, 0.7204301075268817)\n",
      "(0.7741935483870968, 0.7311827956989247)\n",
      "(0.7419354838709677, 0.7419354838709677)\n"
     ]
    }
   ],
   "source": [
    "for correcion in [.18,.20,.22,.23,.24]:\n",
    "    y_pred_lower_threshold = grid.predict_proba(x_test)[:,1] > correcion\n",
    "    #print(classification_report(y_test, y_pred_lower_threshold))\n",
    "    print(mi_metric(confusion_matrix(y_test,y_pred_lower_threshold)))"
   ]
  },
  {
   "cell_type": "code",
   "execution_count": 173,
   "metadata": {},
   "outputs": [
    {
     "data": {
      "image/png": "[encoded data removed]",
      "text/plain": [
       "<Figure size 640x480 with 2 Axes>"
      ]
     },
     "metadata": {},
     "output_type": "display_data"
    }
   ],
   "source": [
    "y_pred_lower_threshold = grid.predict_proba(x_test) > .22\n",
    "plot_confu(confusion_matrix(y_test,y_pred_lower_threshold[:,1]))"
   ]
  },
  {
   "cell_type": "code",
   "execution_count": 174,
   "metadata": {},
   "outputs": [
    {
     "name": "stdout",
     "output_type": "stream",
     "text": [
      "AUC: 0.807\n"
     ]
    }
   ],
   "source": [
    "auc = roc_auc_score(y_test, grid.predict_proba(x_test)[:,1])\n",
    "print(\"AUC: {:.3f}\".format(auc))"
   ]
  },
  {
   "attachments": {},
   "cell_type": "markdown",
   "metadata": {},
   "source": [
    "## Analisis de importancia"
   ]
  },
  {
   "cell_type": "code",
   "execution_count": 175,
   "metadata": {},
   "outputs": [
    {
     "name": "stdout",
     "output_type": "stream",
     "text": [
      "Best cross-validation accuracy: 0.82\n",
      "Test set score: 0.758\n",
      "Best parameters: {'MLPC__hidden_layer_sizes': 100, 'MLPC__learning_rate': 'adaptive', 'MLPC__solver': 'adam'}\n"
     ]
    },
    {
     "name": "stderr",
     "output_type": "stream",
     "text": [
      "C:\\Users\\Uninorte\\AppData\\Roaming\\Python\\Python311\\site-packages\\sklearn\\neural_network\\_multilayer_perceptron.py:691: ConvergenceWarning: Stochastic Optimizer: Maximum iterations (200) reached and the optimization hasn't converged yet.\n",
      "  warnings.warn(\n"
     ]
    }
   ],
   "source": [
    "param_grid = {'MLPC__hidden_layer_sizes': [40,100,200], \n",
    "              'MLPC__solver': ['lbfgs', 'sgd', 'adam'],\n",
    "              'MLPC__learning_rate':['constant', 'invscaling', 'adaptive']}\n",
    "\n",
    "pipe = Pipeline([(\"scaler\", MinMaxScaler()), (\"MLPC\", MLPClassifier())])\n",
    "grid = GridSearchCV(pipe, param_grid=param_grid, cv=5,n_jobs=-1)\n",
    "grid.fit(x_train, y_train)\n",
    "print(\"Best cross-validation accuracy: {:.2f}\".format(grid.best_score_))\n",
    "print(\"Test set score: {:.3f}\".format(grid.score(x_test, y_test)))\n",
    "print(\"Best parameters: {}\".format(grid.best_params_))"
   ]
  },
  {
   "cell_type": "code",
   "execution_count": 176,
   "metadata": {},
   "outputs": [
    {
     "data": {
      "text/plain": [
       "Text(0.5, 0, 'Permutation Importance')"
      ]
     },
     "execution_count": 176,
     "metadata": {},
     "output_type": "execute_result"
    },
    {
     "data": {
      "image/png": "[encoded data removed]",
      "text/plain": [
       "<Figure size 640x480 with 1 Axes>"
      ]
     },
     "metadata": {},
     "output_type": "display_data"
    }
   ],
   "source": [
    "#random.seed(123)\n",
    "perm_importance = permutation_importance(grid, x_train, y_train, n_repeats=30, random_state=123)\n",
    "feature_names = x_train.columns.values\n",
    "\n",
    "features = np.array(feature_names)\n",
    "\n",
    "sorted_idx = perm_importance.importances_mean.argsort()\n",
    "plt.barh(features[sorted_idx], perm_importance.importances_mean[sorted_idx])\n",
    "plt.xlabel(\"Permutation Importance\")"
   ]
  },
  {
   "attachments": {},
   "cell_type": "markdown",
   "metadata": {},
   "source": [
    "# Hombres"
   ]
  },
  {
   "cell_type": "code",
   "execution_count": 177,
   "metadata": {},
   "outputs": [],
   "source": [
    "data_ho=datos[datos['p142']=='Masculino']\n",
    "data_ho= data_ho.drop('p142', axis=1)"
   ]
  },
  {
   "cell_type": "code",
   "execution_count": 178,
   "metadata": {},
   "outputs": [
    {
     "name": "stderr",
     "output_type": "stream",
     "text": [
      "C:\\Users\\Uninorte\\AppData\\Local\\Temp\\ipykernel_6540\\2465038465.py:4: FutureWarning: pandas.value_counts is deprecated and will be removed in a future version. Use pd.Series(obj).value_counts() instead.\n",
      "  pd.value_counts(data_ho['satisIndividual_cat'])\n"
     ]
    }
   ],
   "source": [
    "a=pd.DataFrame(data_ho.satisIndividual.quantile([0.25]))\n",
    "x1=data_ho['satisIndividual']\n",
    "data_ho['satisIndividual_cat'] = np.where(x1 <=  a.iloc[0,0], 1,0)\n",
    "pd.value_counts(data_ho['satisIndividual_cat'])\n",
    "x_train, x_test, y_train, y_test = train_test_split(data_ho.drop(['satisIndividual_cat','satisIndividual'], axis=1), data_ho['satisIndividual_cat'], stratify= data_ho['satisIndividual_cat'],random_state=0)"
   ]
  },
  {
   "attachments": {},
   "cell_type": "markdown",
   "metadata": {},
   "source": [
    "## SVM"
   ]
  },
  {
   "cell_type": "code",
   "execution_count": 179,
   "metadata": {},
   "outputs": [
    {
     "name": "stdout",
     "output_type": "stream",
     "text": [
      "Best cross-validation accuracy: 0.75\n",
      "Test set score: 0.718\n",
      "Best parameters: {'svm__C': 100, 'svm__gamma': 0.1, 'svm__kernel': 'rbf'}\n"
     ]
    }
   ],
   "source": [
    "param_grid = {'svm__C': [10,100,1000,10000], \n",
    "              'svm__gamma': [0.0001,0.001,0.01,0.1],\n",
    "              'svm__kernel':['linear','rbf','poly']}\n",
    "\n",
    "pipe = Pipeline([(\"scaler\", MinMaxScaler()), (\"svm\", SVC())])\n",
    "grid = GridSearchCV(pipe, param_grid=param_grid, cv=5,n_jobs=-1)\n",
    "grid.fit(x_train, y_train)\n",
    "print(\"Best cross-validation accuracy: {:.2f}\".format(grid.best_score_))\n",
    "print(\"Test set score: {:.3f}\".format(grid.score(x_test, y_test)))\n",
    "print(\"Best parameters: {}\".format(grid.best_params_))"
   ]
  },
  {
   "cell_type": "code",
   "execution_count": 180,
   "metadata": {},
   "outputs": [],
   "source": [
    "#results = pd.DataFrame(grid.cv_results_)\n",
    "#scores = np.array(results.mean_test_score).reshape(4,3)\n",
    "#mglearn.tools.heatmap(scores, \n",
    "#                      xlabel='gamma', \n",
    " #                     xticklabels=param_grid['svm__gamma'], \n",
    "  #                    ylabel='C', \n",
    "   #                   yticklabels=param_grid['svm__C'], \n",
    "    #                  cmap=\"viridis\");"
   ]
  },
  {
   "cell_type": "code",
   "execution_count": 181,
   "metadata": {},
   "outputs": [
    {
     "name": "stdout",
     "output_type": "stream",
     "text": [
      "              precision    recall  f1-score   support\n",
      "\n",
      "           0       0.75      0.94      0.83        64\n",
      "           1       0.20      0.05      0.08        21\n",
      "\n",
      "    accuracy                           0.72        85\n",
      "   macro avg       0.47      0.49      0.46        85\n",
      "weighted avg       0.61      0.72      0.65        85\n",
      "\n",
      "[[60  4]\n",
      " [20  1]]\n"
     ]
    }
   ],
   "source": [
    "pred=grid.predict(x_test)\n",
    "print(classification_report(y_test, pred))\n",
    "print(confusion_matrix(y_test,pred))\n"
   ]
  },
  {
   "cell_type": "code",
   "execution_count": 182,
   "metadata": {},
   "outputs": [
    {
     "name": "stdout",
     "output_type": "stream",
     "text": [
      "(0.8571428571428571, 0.546875)\n",
      "(0.7142857142857143, 0.578125)\n",
      "(0.6666666666666666, 0.59375)\n",
      "(0.5714285714285714, 0.65625)\n"
     ]
    }
   ],
   "source": [
    "for correcion in [-1.3,-1.1,-1.07,-1]:\n",
    "    y_pred_lower_threshold = grid.decision_function(x_test) > correcion\n",
    "    print(mi_metric(confusion_matrix(y_test,y_pred_lower_threshold)))"
   ]
  },
  {
   "cell_type": "code",
   "execution_count": 183,
   "metadata": {},
   "outputs": [
    {
     "data": {
      "image/png": "[encoded data removed]",
      "text/plain": [
       "<Figure size 640x480 with 2 Axes>"
      ]
     },
     "metadata": {},
     "output_type": "display_data"
    }
   ],
   "source": [
    "y_pred_lower_threshold = grid.decision_function(x_test) > -1\n",
    "plot_confu(confusion_matrix(y_test,y_pred_lower_threshold))"
   ]
  },
  {
   "cell_type": "code",
   "execution_count": 184,
   "metadata": {},
   "outputs": [
    {
     "name": "stdout",
     "output_type": "stream",
     "text": [
      "AUC: 0.659\n"
     ]
    }
   ],
   "source": [
    "auc = roc_auc_score(y_test, grid.decision_function(x_test))\n",
    "print(\"AUC: {:.3f}\".format(auc))"
   ]
  },
  {
   "attachments": {},
   "cell_type": "markdown",
   "metadata": {},
   "source": [
    "## Random Forest"
   ]
  },
  {
   "cell_type": "code",
   "execution_count": 185,
   "metadata": {},
   "outputs": [
    {
     "name": "stdout",
     "output_type": "stream",
     "text": [
      "Best cross-validation accuracy: 0.76\n",
      "Test set score: 0.765\n",
      "Best parameters: {'rf__max_features': 6, 'rf__n_estimators': 30}\n"
     ]
    }
   ],
   "source": [
    "param_grid = {'rf__n_estimators':[10,20,30], \n",
    "              'rf__max_features': [3,4,5,6]}\n",
    "              \n",
    "pipe = Pipeline([(\"scaler\", MinMaxScaler()), (\"rf\", RandomForestClassifier(random_state=0))])\n",
    "grid = GridSearchCV(pipe, param_grid=param_grid, cv=5,n_jobs=-1)\n",
    "grid.fit(x_train, y_train)\n",
    "print(\"Best cross-validation accuracy: {:.2f}\".format(grid.best_score_))\n",
    "print(\"Test set score: {:.3f}\".format(grid.score(x_test, y_test)))\n",
    "print(\"Best parameters: {}\".format(grid.best_params_))"
   ]
  },
  {
   "cell_type": "code",
   "execution_count": 186,
   "metadata": {},
   "outputs": [
    {
     "name": "stdout",
     "output_type": "stream",
     "text": [
      "              precision    recall  f1-score   support\n",
      "\n",
      "           0       0.78      0.97      0.86        64\n",
      "           1       0.60      0.14      0.23        21\n",
      "\n",
      "    accuracy                           0.76        85\n",
      "   macro avg       0.69      0.56      0.55        85\n",
      "weighted avg       0.73      0.76      0.71        85\n",
      "\n"
     ]
    }
   ],
   "source": [
    "pred=grid.predict(x_test)\n",
    "print(classification_report(y_test, pred))"
   ]
  },
  {
   "cell_type": "code",
   "execution_count": 187,
   "metadata": {},
   "outputs": [
    {
     "name": "stdout",
     "output_type": "stream",
     "text": [
      "(0.7619047619047619, 0.5625)\n",
      "(0.7619047619047619, 0.5625)\n",
      "(0.6666666666666666, 0.609375)\n",
      "(0.47619047619047616, 0.75)\n",
      "(0.3333333333333333, 0.8125)\n"
     ]
    }
   ],
   "source": [
    "for correcion in [.20,.23,.25,.27,.3]:\n",
    "    y_pred_lower_threshold = grid.predict_proba(x_test)[:,1] > correcion\n",
    "    print(mi_metric(confusion_matrix(y_test,y_pred_lower_threshold)))"
   ]
  },
  {
   "cell_type": "code",
   "execution_count": 188,
   "metadata": {},
   "outputs": [
    {
     "data": {
      "image/png": "[encoded data removed]",
      "text/plain": [
       "<Figure size 640x480 with 2 Axes>"
      ]
     },
     "metadata": {},
     "output_type": "display_data"
    }
   ],
   "source": [
    "y_pred_lower_threshold = grid.predict_proba(x_test) > .25\n",
    "plot_confu(confusion_matrix(y_test,y_pred_lower_threshold[:,1]))"
   ]
  },
  {
   "cell_type": "code",
   "execution_count": 189,
   "metadata": {},
   "outputs": [
    {
     "name": "stdout",
     "output_type": "stream",
     "text": [
      "AUC: 0.698\n"
     ]
    }
   ],
   "source": [
    "auc = roc_auc_score(y_test, grid.predict_proba(x_test)[:, 1])\n",
    "print(\"AUC: {:.3f}\".format(auc))"
   ]
  },
  {
   "attachments": {},
   "cell_type": "markdown",
   "metadata": {},
   "source": [
    "## Logistica"
   ]
  },
  {
   "cell_type": "code",
   "execution_count": 190,
   "metadata": {},
   "outputs": [
    {
     "name": "stdout",
     "output_type": "stream",
     "text": [
      "Best cross-validation accuracy: 0.75\n",
      "Test set score: 0.788\n",
      "Best parameters: {'logisticregression__C': 1}\n"
     ]
    }
   ],
   "source": [
    "param_grid={'logisticregression__C': [0.01,0.1, 1, 10, 100,1000]}\n",
    "pipe = Pipeline([(\"scaler\", MinMaxScaler()), (\"logisticregression\", LogisticRegression())])\n",
    "grid = GridSearchCV(pipe, param_grid=param_grid, cv=5, n_jobs = -1)\n",
    "grid.fit(x_train, y_train)\n",
    "print(\"Best cross-validation accuracy: {:.2f}\".format(grid.best_score_))\n",
    "print(\"Test set score: {:.3f}\".format(grid.score(x_test, y_test)))\n",
    "print(\"Best parameters: {}\".format(grid.best_params_))"
   ]
  },
  {
   "cell_type": "code",
   "execution_count": 191,
   "metadata": {},
   "outputs": [
    {
     "name": "stdout",
     "output_type": "stream",
     "text": [
      "              precision    recall  f1-score   support\n",
      "\n",
      "           0       0.78      1.00      0.88        64\n",
      "           1       1.00      0.14      0.25        21\n",
      "\n",
      "    accuracy                           0.79        85\n",
      "   macro avg       0.89      0.57      0.56        85\n",
      "weighted avg       0.83      0.79      0.72        85\n",
      "\n"
     ]
    }
   ],
   "source": [
    "pred=grid.predict(x_test)\n",
    "print(classification_report(y_test, pred))"
   ]
  },
  {
   "cell_type": "code",
   "execution_count": 192,
   "metadata": {},
   "outputs": [
    {
     "name": "stdout",
     "output_type": "stream",
     "text": [
      "(0.6666666666666666, 0.78125)\n",
      "(0.7142857142857143, 0.78125)\n",
      "(0.7619047619047619, 0.78125)\n"
     ]
    }
   ],
   "source": [
    "for correcion in [-.92,-.93,-.97]:\n",
    "    y_pred_lower_threshold = grid.decision_function(x_test) > correcion\n",
    "    print(mi_metric(confusion_matrix(y_test,y_pred_lower_threshold)))"
   ]
  },
  {
   "cell_type": "code",
   "execution_count": 193,
   "metadata": {},
   "outputs": [
    {
     "data": {
      "image/png": "[encoded data removed]",
      "text/plain": [
       "<Figure size 640x480 with 2 Axes>"
      ]
     },
     "metadata": {},
     "output_type": "display_data"
    }
   ],
   "source": [
    "y_pred_lower_threshold = grid.decision_function(x_test) > -.97\n",
    "plot_confu(confusion_matrix(y_test,y_pred_lower_threshold))"
   ]
  },
  {
   "cell_type": "code",
   "execution_count": 194,
   "metadata": {},
   "outputs": [
    {
     "name": "stdout",
     "output_type": "stream",
     "text": [
      "AUC: 0.815\n"
     ]
    }
   ],
   "source": [
    "auc = roc_auc_score(y_test, grid.decision_function(x_test))\n",
    "print(\"AUC: {:.3f}\".format(auc))"
   ]
  },
  {
   "attachments": {},
   "cell_type": "markdown",
   "metadata": {},
   "source": [
    "## Gradient boosting"
   ]
  },
  {
   "cell_type": "code",
   "execution_count": 195,
   "metadata": {},
   "outputs": [
    {
     "name": "stdout",
     "output_type": "stream",
     "text": [
      "Best cross-validation accuracy: 0.75\n",
      "Test set score: 0.753\n",
      "Best parameters: {'Gradient_boosting__eta': 1e-05, 'Gradient_boosting__gamma': 0.1, 'Gradient_boosting__learning_rate': 0.01, 'Gradient_boosting__n_estimators': 1}\n"
     ]
    },
    {
     "name": "stderr",
     "output_type": "stream",
     "text": [
      "C:\\Users\\Uninorte\\AppData\\Roaming\\Python\\Python311\\site-packages\\xgboost\\data.py:520: FutureWarning: is_sparse is deprecated and will be removed in a future version. Check `isinstance(dtype, pd.SparseDtype)` instead.\n",
      "  if is_sparse(data):\n"
     ]
    }
   ],
   "source": [
    "param_grid = {'Gradient_boosting__n_estimators': [1,5,10],\n",
    "              'Gradient_boosting__gamma' : [0.1,1, 10,100],\n",
    "              'Gradient_boosting__eta' : [0.00001,0.0001],\n",
    "              'Gradient_boosting__learning_rate' : [0.01]}\n",
    "\n",
    "pipe = Pipeline([(\"scaler\", MinMaxScaler()),(\"Gradient_boosting\", xgb.XGBClassifier(objective=\"binary:logistic\",\n",
    " booster='gbtree',eval_metric=\"auc\",seed=0))])\n",
    "\n",
    "grid = GridSearchCV(pipe, param_grid=param_grid, cv=5, n_jobs = -1)\n",
    "grid.fit(x_train, y_train)\n",
    "print(\"Best cross-validation accuracy: {:.2f}\".format(grid.best_score_))\n",
    "print(\"Test set score: {:.3f}\".format(grid.score(x_test, y_test)))\n",
    "print(\"Best parameters: {}\".format(grid.best_params_))"
   ]
  },
  {
   "cell_type": "code",
   "execution_count": 196,
   "metadata": {},
   "outputs": [
    {
     "name": "stdout",
     "output_type": "stream",
     "text": [
      "              precision    recall  f1-score   support\n",
      "\n",
      "           0       0.75      1.00      0.86        64\n",
      "           1       0.00      0.00      0.00        21\n",
      "\n",
      "    accuracy                           0.75        85\n",
      "   macro avg       0.38      0.50      0.43        85\n",
      "weighted avg       0.57      0.75      0.65        85\n",
      "\n"
     ]
    },
    {
     "name": "stderr",
     "output_type": "stream",
     "text": [
      "C:\\Users\\Uninorte\\AppData\\Roaming\\Python\\Python311\\site-packages\\sklearn\\metrics\\_classification.py:1469: UndefinedMetricWarning: Precision and F-score are ill-defined and being set to 0.0 in labels with no predicted samples. Use `zero_division` parameter to control this behavior.\n",
      "  _warn_prf(average, modifier, msg_start, len(result))\n",
      "C:\\Users\\Uninorte\\AppData\\Roaming\\Python\\Python311\\site-packages\\sklearn\\metrics\\_classification.py:1469: UndefinedMetricWarning: Precision and F-score are ill-defined and being set to 0.0 in labels with no predicted samples. Use `zero_division` parameter to control this behavior.\n",
      "  _warn_prf(average, modifier, msg_start, len(result))\n",
      "C:\\Users\\Uninorte\\AppData\\Roaming\\Python\\Python311\\site-packages\\sklearn\\metrics\\_classification.py:1469: UndefinedMetricWarning: Precision and F-score are ill-defined and being set to 0.0 in labels with no predicted samples. Use `zero_division` parameter to control this behavior.\n",
      "  _warn_prf(average, modifier, msg_start, len(result))\n"
     ]
    }
   ],
   "source": [
    "pred=grid.predict(x_test)\n",
    "print(classification_report(y_test, pred))"
   ]
  },
  {
   "cell_type": "code",
   "execution_count": 197,
   "metadata": {},
   "outputs": [
    {
     "name": "stdout",
     "output_type": "stream",
     "text": [
      "(1.0, 0.0)\n",
      "(0.9047619047619048, 0.3125)\n",
      "(0.09523809523809523, 0.96875)\n",
      "(0.0, 1.0)\n"
     ]
    }
   ],
   "source": [
    "for correcion in [.25,.27,.275,.28]:\n",
    "    y_pred_lower_threshold = grid.predict_proba(x_test)[:,1] > correcion\n",
    "    print(mi_metric(confusion_matrix(y_test,y_pred_lower_threshold)))"
   ]
  },
  {
   "cell_type": "code",
   "execution_count": 198,
   "metadata": {},
   "outputs": [
    {
     "data": {
      "image/png": "[encoded data removed]",
      "text/plain": [
       "<Figure size 640x480 with 2 Axes>"
      ]
     },
     "metadata": {},
     "output_type": "display_data"
    }
   ],
   "source": [
    "\n",
    "y_pred_lower_threshold = grid.predict_proba(x_test) > .27\n",
    "plot_confu(confusion_matrix(y_test,y_pred_lower_threshold[:,1]))"
   ]
  },
  {
   "cell_type": "code",
   "execution_count": 199,
   "metadata": {},
   "outputs": [
    {
     "name": "stdout",
     "output_type": "stream",
     "text": [
      "AUC: 0.702\n"
     ]
    }
   ],
   "source": [
    "auc = roc_auc_score(y_test, grid.predict_proba(x_test)[:, 1])\n",
    "print(\"AUC: {:.3f}\".format(auc))"
   ]
  },
  {
   "cell_type": "markdown",
   "metadata": {},
   "source": [
    "## Clasificador de redes neuronales"
   ]
  },
  {
   "cell_type": "code",
   "execution_count": 200,
   "metadata": {},
   "outputs": [
    {
     "name": "stdout",
     "output_type": "stream",
     "text": [
      "Best cross-validation accuracy: 0.75\n",
      "Test set score: 0.800\n",
      "Best parameters: {'MLPC__hidden_layer_sizes': 100, 'MLPC__learning_rate': 'constant', 'MLPC__solver': 'adam'}\n"
     ]
    },
    {
     "name": "stderr",
     "output_type": "stream",
     "text": [
      "C:\\Users\\Uninorte\\AppData\\Roaming\\Python\\Python311\\site-packages\\sklearn\\neural_network\\_multilayer_perceptron.py:691: ConvergenceWarning: Stochastic Optimizer: Maximum iterations (200) reached and the optimization hasn't converged yet.\n",
      "  warnings.warn(\n"
     ]
    }
   ],
   "source": [
    "param_grid = {'MLPC__hidden_layer_sizes': [40,100,200], \n",
    "              'MLPC__solver': ['lbfgs', 'sgd', 'adam'],\n",
    "              'MLPC__learning_rate':['constant', 'invscaling', 'adaptive']}\n",
    "\n",
    "pipe = Pipeline([(\"scaler\", MinMaxScaler()), (\"MLPC\", MLPClassifier(random_state=123))])\n",
    "grid = GridSearchCV(pipe, param_grid=param_grid, cv=5,n_jobs=-1)\n",
    "grid.fit(x_train, y_train)\n",
    "print(\"Best cross-validation accuracy: {:.2f}\".format(grid.best_score_))\n",
    "print(\"Test set score: {:.3f}\".format(grid.score(x_test, y_test)))\n",
    "print(\"Best parameters: {}\".format(grid.best_params_))"
   ]
  },
  {
   "cell_type": "code",
   "execution_count": 201,
   "metadata": {},
   "outputs": [
    {
     "name": "stdout",
     "output_type": "stream",
     "text": [
      "              precision    recall  f1-score   support\n",
      "\n",
      "           0       0.80      0.98      0.88        64\n",
      "           1       0.83      0.24      0.37        21\n",
      "\n",
      "    accuracy                           0.80        85\n",
      "   macro avg       0.82      0.61      0.63        85\n",
      "weighted avg       0.81      0.80      0.75        85\n",
      "\n"
     ]
    }
   ],
   "source": [
    "pred=grid.predict(x_test)\n",
    "print(classification_report(y_test, pred))"
   ]
  },
  {
   "cell_type": "code",
   "execution_count": 202,
   "metadata": {},
   "outputs": [
    {
     "name": "stdout",
     "output_type": "stream",
     "text": [
      "(0.8571428571428571, 0.515625)\n",
      "(0.8095238095238095, 0.75)\n",
      "(0.7619047619047619, 0.8125)\n",
      "(0.42857142857142855, 0.875)\n"
     ]
    }
   ],
   "source": [
    "for correcion in [.20,.25,.30,.35]:\n",
    "    y_pred_lower_threshold = grid.predict_proba(x_test)[:,1] > correcion\n",
    "    #print(classification_report(y_test, y_pred_lower_threshold))\n",
    "    print(mi_metric(confusion_matrix(y_test,y_pred_lower_threshold)))"
   ]
  },
  {
   "cell_type": "code",
   "execution_count": 203,
   "metadata": {},
   "outputs": [
    {
     "data": {
      "image/png": "[encoded data removed]",
      "text/plain": [
       "<Figure size 640x480 with 2 Axes>"
      ]
     },
     "metadata": {},
     "output_type": "display_data"
    }
   ],
   "source": [
    "y_pred_lower_threshold = grid.predict_proba(x_test) > .30\n",
    "plot_confu(confusion_matrix(y_test,y_pred_lower_threshold[:,1]))"
   ]
  },
  {
   "cell_type": "code",
   "execution_count": 204,
   "metadata": {},
   "outputs": [
    {
     "name": "stdout",
     "output_type": "stream",
     "text": [
      "AUC: 0.817\n"
     ]
    }
   ],
   "source": [
    "auc = roc_auc_score(y_test, grid.predict_proba(x_test)[:,1])\n",
    "print(\"AUC: {:.3f}\".format(auc))"
   ]
  },
  {
   "attachments": {},
   "cell_type": "markdown",
   "metadata": {},
   "source": [
    "## Analisis de importancia"
   ]
  },
  {
   "cell_type": "code",
   "execution_count": 205,
   "metadata": {},
   "outputs": [
    {
     "name": "stdout",
     "output_type": "stream",
     "text": [
      "Best cross-validation accuracy: 0.75\n",
      "Test set score: 0.776\n",
      "Best parameters: {'MLPC__hidden_layer_sizes': 200, 'MLPC__learning_rate': 'adaptive', 'MLPC__solver': 'adam'}\n"
     ]
    },
    {
     "name": "stderr",
     "output_type": "stream",
     "text": [
      "C:\\Users\\Uninorte\\AppData\\Roaming\\Python\\Python311\\site-packages\\sklearn\\neural_network\\_multilayer_perceptron.py:691: ConvergenceWarning: Stochastic Optimizer: Maximum iterations (200) reached and the optimization hasn't converged yet.\n",
      "  warnings.warn(\n"
     ]
    }
   ],
   "source": [
    "param_grid = {'MLPC__hidden_layer_sizes': [40,100,200], \n",
    "              'MLPC__solver': ['lbfgs', 'sgd', 'adam'],\n",
    "              'MLPC__learning_rate':['constant', 'invscaling', 'adaptive']}\n",
    "\n",
    "pipe = Pipeline([(\"scaler\", MinMaxScaler()), (\"MLPC\", MLPClassifier())])\n",
    "grid = GridSearchCV(pipe, param_grid=param_grid, cv=5,n_jobs=-1)\n",
    "grid.fit(x_train, y_train)\n",
    "print(\"Best cross-validation accuracy: {:.2f}\".format(grid.best_score_))\n",
    "print(\"Test set score: {:.3f}\".format(grid.score(x_test, y_test)))\n",
    "print(\"Best parameters: {}\".format(grid.best_params_))"
   ]
  },
  {
   "cell_type": "code",
   "execution_count": 207,
   "metadata": {},
   "outputs": [
    {
     "data": {
      "text/plain": [
       "Text(0.5, 0, 'Permutation Importance')"
      ]
     },
     "execution_count": 207,
     "metadata": {},
     "output_type": "execute_result"
    },
    {
     "data": {
      "image/png": "[encoded data removed]",
      "text/plain": [
       "<Figure size 640x480 with 1 Axes>"
      ]
     },
     "metadata": {},
     "output_type": "display_data"
    }
   ],
   "source": [
    "perm_importance = permutation_importance(grid, x_train, y_train,n_repeats=30,random_state=123)\n",
    "\n",
    "feature_names = x_train.columns.values\n",
    "\n",
    "features = np.array(feature_names)\n",
    "\n",
    "sorted_idx = perm_importance.importances_mean.argsort()\n",
    "plt.barh(features[sorted_idx], perm_importance.importances_mean[sorted_idx])\n",
    "plt.xlabel(\"Permutation Importance\")"
   ]
  }
 ],
 "metadata": {
  "kernelspec": {
   "display_name": "Python 3",
   "language": "python",
   "name": "python3"
  },
  "language_info": {
   "codemirror_mode": {
    "name": "ipython",
    "version": 3
   },
   "file_extension": ".py",
   "mimetype": "text/x-python",
   "name": "python",
   "nbconvert_exporter": "python",
   "pygments_lexer": "ipython3",
   "version": "3.11.5"
  },
  "orig_nbformat": 4,
  "vscode": {
   "interpreter": {
    "hash": "d417a21d97a2e6b8832d21dc44f5cbe4be6e18325f874a8bb8484565b928cd54"
   }
  }
 },
 "nbformat": 4,
 "nbformat_minor": 2
}
